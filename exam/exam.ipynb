{
 "cells": [
  {
   "cell_type": "markdown",
   "metadata": {},
   "source": [
    "# 3\\. BASH"
   ]
  },
  {
   "cell_type": "markdown",
   "metadata": {},
   "source": [
    "### 3\\.1\n",
    "\n",
    "1\\.a Make a new directory called `students` in your home. Download a csv file with the list of students of this lab from [here](https://www.dropbox.com/s/867rtx3az6e9gm8/LCP_22-23_students.csv) (use the `wget` command) and copy that to `students`. First check whether the file is already there\n",
    "\n",
    "1\\.b Make two new files, one containing the students belonging to PoD, the other to Physics.\n",
    "\n",
    "1\\.c For each letter of the alphabet, count the number of students whose surname starts with that letter.\n",
    "\n",
    "1\\.d Find out which is the letter with most counts.\n",
    "\n",
    "1\\.e Assume an obvious numbering of the students in the file (first line is 1, second line is 2, etc.), group students \"modulo 18\", i.e. 1,19,37,.. 2,20,38,.. etc. and put each group in a separate file"
   ]
  },
  {
   "cell_type": "markdown",
   "metadata": {},
   "source": [
    "```bash\n",
    "mkdir \"./students\"\n",
    "cd \"./students\"\n",
    "\n",
    "if [ ! -f ./LCP_22-23_students.csv ]\n",
    "then\n",
    "    wget https://www.dropbox.com/s/867rtx3az6e9gm8/LCP_22-23_students.csv\n",
    "fi\n",
    "\n",
    "grep \"PoD\" \"./LCP_22-23_students.csv\" > \"./PoD_students.csv\"\n",
    "grep \"Physics\" \"./LCP_22-23_students.csv\" > \"./Physics_students.csv\"\n",
    "\n",
    "max_count=0\n",
    "max_letter=\"A\"\n",
    "\n",
    "for letter in {A..Z}\n",
    "do\n",
    "    count=$(awk -F '[, ]' 'NR>1 {print substr($1, 1, 1)}' \"./LCP_22-23_students.csv\" | grep -c \"$letter\")\n",
    "    echo \"$letter: $count\" >> \"./count_by_letters.csv\"\n",
    "\n",
    "    if [ $count -gt $max_count ]\n",
    "    then\n",
    "        max_count=$count\n",
    "        max_letter=$letter\n",
    "    fi\n",
    "done\n",
    "\n",
    "echo \"The most frequent surname initial is: $max_letter.\"\n",
    "\n",
    "awk -F ',' 'NR>1 {file=\"./group_\"int((NR-2)%18)+1\".txt\"; print $0 >> file; close(file)}' ./LCP_22-23_students.csv\n",
    "\n",
    "```"
   ]
  },
  {
   "cell_type": "markdown",
   "metadata": {},
   "source": [
    "### 3\\.2\n",
    "\n",
    "2\\.a Make a copy of the file `data.csv` removing the metadata and the commas between numbers; call it `data.txt`\n",
    "\n",
    "2\\.b How many even numbers are there?\n",
    "\n",
    "2\\.c Distinguish the entries on the basis of `sqrt(X^2 + Y^2 + Z^2)` is greater or smaller than `100*sqrt(3)/2`. Count the entries of each of the two groups.\n",
    "\n",
    "2\\.d Make `n` copies of data.txt (with `n` an input parameter of the script), where the i-th copy has all the numbers divided by i (with `1<=i<=n`)."
   ]
  },
  {
   "cell_type": "markdown",
   "metadata": {},
   "source": [
    "```bash\n",
    "grep -v '^#' data.csv | tr -d ',' > data.txt\n",
    "\n",
    "even_numbers_count=$(grep -oE '\\b[0-9]+\\b' data.txt | awk '$1 % 2 == 0' | wc -l)\n",
    "echo \"Number of even numbers: $even_numbers_count.\"\n",
    "\n",
    "num_greater=0\n",
    "num_lower=0\n",
    "threshold=$(echo \"scale=6; 100 * sqrt(3) / 2\" | bc -l)\n",
    "\n",
    "while IFS=' ' read -r X Y Z Xp Yp Zp\n",
    "do \n",
    "    distance=$(echo \"scale=6; sqrt($X^2 + $Y^2 + $Z^2)\" | bc -l)\n",
    "    if [ $(echo \"$distance > $threshold\" | bc -l) -eq 1 ]\n",
    "    then\n",
    "        ((num_greater++))\n",
    "    else\n",
    "        ((num_lower++))\n",
    "    fi\n",
    "\n",
    "done < data.txt\n",
    "\n",
    "echo \"Number of distances higher than the treshold: $num_greater\"\n",
    "echo \"Number of distances lower than the treshold: $num_lower\"\n",
    "\n",
    "read -p \"Enter the number of files (n):\" n\n",
    "\n",
    "if [[ ! $n =~ ^[1-9][0-9]*$ ]]\n",
    "then\n",
    "    echo \"Not valid input: n must be a positive integer\"\n",
    "    exit 1\n",
    "fi\n",
    "\n",
    "for (( i = 1; i <= n; i++ ))\n",
    "do \n",
    "    while IFS=' ' read -r X Y Z Xp Yp Zp\n",
    "    do\n",
    "        X=$(echo \"scale=6; $X / $i\" | bc -l)\n",
    "        Y=$(echo \"scale=6; $Y / $i\" | bc -l)\n",
    "        Z=$(echo \"scale=6; $Z / $i\" | bc -l)\n",
    "        Xp=$(echo \"scale=6; $Xp / $i\" | bc -l)\n",
    "        Yp=$(echo \"scale=6; $Yp / $i\" | bc -l)\n",
    "        Zp=$(echo \"scale=6; $Zp / $i\" | bc -l)\n",
    "\n",
    "        echo \"$X $Y $Z $Xp $Yp $Zp\">> \"./data_$i.txt\"\n",
    "    done < \"data.txt\"\n",
    "\n",
    "done\n",
    "\n",
    "echo \"Copies created successfully\"\n",
    "```"
   ]
  },
  {
   "cell_type": "markdown",
   "metadata": {},
   "source": [
    "# 4. Numpy"
   ]
  },
  {
   "cell_type": "markdown",
   "metadata": {},
   "source": [
    "### 4.2\n",
    "\n",
    "Find the outer product of the following two vectors (10 MINUTES)\n",
    "\n",
    "```python\n",
    "u = np.array([1,3,5,7])\n",
    "v = np.array([2,4,6,8])\n",
    "```\n",
    "\n",
    "Do this in the following ways:\n",
    "\n",
    "   * Using the function outer in numpy\n",
    "   * Using a nested for loop or list comprehension\n",
    "   * Using numpy broadcasting operations"
   ]
  },
  {
   "cell_type": "code",
   "execution_count": 8,
   "metadata": {},
   "outputs": [
    {
     "name": "stdout",
     "output_type": "stream",
     "text": [
      "Outer function:\n",
      "[[ 2  4  6  8]\n",
      " [ 6 12 18 24]\n",
      " [10 20 30 40]\n",
      " [14 28 42 56]] \n",
      "\n",
      "List comprehension:\n",
      "[[ 2  4  6  8]\n",
      " [ 6 12 18 24]\n",
      " [10 20 30 40]\n",
      " [14 28 42 56]] \n",
      "\n",
      "Broadcasting operations:\n",
      "[[ 2  4  6  8]\n",
      " [ 6 12 18 24]\n",
      " [10 20 30 40]\n",
      " [14 28 42 56]]\n"
     ]
    }
   ],
   "source": [
    "import numpy as np\n",
    "\n",
    "u = np.array([1,3,5,7])\n",
    "v = np.array([2,4,6,8])\n",
    "\n",
    "print('Outer function:')\n",
    "print(np.outer(u, v), '\\n')\n",
    "\n",
    "print('List comprehension:')\n",
    "print(np.matrix([[u[i] * v[j] for j in range(4)] for i in range(4)]), '\\n')\n",
    "\n",
    "u_broadcasted = np.tile(u, (4, 1))\n",
    "v_broadcasted = np.tile(v, (4, 1))\n",
    "\n",
    "print('Broadcasting operations:')\n",
    "print(u_broadcasted.T * v_broadcasted)"
   ]
  },
  {
   "cell_type": "markdown",
   "metadata": {},
   "source": [
    "### 4.4\n",
    "\n",
    "Use np.linspace to create an array of 100 numbers between 0 and 2π (inclusive). (10 MINUTES)\n",
    "\n",
    "  * Extract every 10th element using slice notation\n",
    "  * Reverse the array using slice notation\n",
    "  * Extract elements where the absolute difference between the sine and cosine functions evaluated at that element is less than 0.1\n",
    "  * Make a plot showing the sin and cos functions and indicate where they are close"
   ]
  },
  {
   "cell_type": "code",
   "execution_count": 9,
   "metadata": {},
   "outputs": [
    {
     "name": "stdout",
     "output_type": "stream",
     "text": [
      "[0.         0.63466518 1.26933037 1.90399555 2.53866073 3.17332591\n",
      " 3.8079911  4.44265628 5.07732146 5.71198664]\n",
      "[6.28318531 6.21971879 6.15625227 6.09278575 6.02931923 5.96585272\n",
      " 5.9023862  5.83891968 5.77545316 5.71198664 5.64852012 5.58505361\n",
      " 5.52158709 5.45812057 5.39465405 5.33118753 5.26772102 5.2042545\n",
      " 5.14078798 5.07732146 5.01385494 4.95038842 4.88692191 4.82345539\n",
      " 4.75998887 4.69652235 4.63305583 4.56958931 4.5061228  4.44265628\n",
      " 4.37918976 4.31572324 4.25225672 4.1887902  4.12532369 4.06185717\n",
      " 3.99839065 3.93492413 3.87145761 3.8079911  3.74452458 3.68105806\n",
      " 3.61759154 3.55412502 3.4906585  3.42719199 3.36372547 3.30025895\n",
      " 3.23679243 3.17332591 3.10985939 3.04639288 2.98292636 2.91945984\n",
      " 2.85599332 2.7925268  2.72906028 2.66559377 2.60212725 2.53866073\n",
      " 2.47519421 2.41172769 2.34826118 2.28479466 2.22132814 2.15786162\n",
      " 2.0943951  2.03092858 1.96746207 1.90399555 1.84052903 1.77706251\n",
      " 1.71359599 1.65012947 1.58666296 1.52319644 1.45972992 1.3962634\n",
      " 1.33279688 1.26933037 1.20586385 1.14239733 1.07893081 1.01546429\n",
      " 0.95199777 0.88853126 0.82506474 0.76159822 0.6981317  0.63466518\n",
      " 0.57119866 0.50773215 0.44426563 0.38079911 0.31733259 0.25386607\n",
      " 0.19039955 0.12693304 0.06346652 0.        ]\n",
      "[0.76159822 0.82506474 3.87145761 3.93492413]\n"
     ]
    },
    {
     "data": {
      "image/png": "[encoded data removed]",
      "text/plain": [
       "<Figure size 640x480 with 1 Axes>"
      ]
     },
     "metadata": {},
     "output_type": "display_data"
    }
   ],
   "source": [
    "import numpy as np\n",
    "import matplotlib.pyplot as plt\n",
    "\n",
    "elements = np.linspace(0, 2* np.pi, 100)\n",
    "\n",
    "every_10th_element = elements[::10]\n",
    "reversed_element= elements[::-1]\n",
    "close_elements = elements[np.abs(np.sin(elements) - np.cos(elements)) < 0.1 ]\n",
    "\n",
    "print(every_10th_element)\n",
    "print(reversed_element)\n",
    "print(close_elements)\n",
    "\n",
    "plt.plot(elements, np.sin(elements), label='sin(Theta)')\n",
    "plt.plot(elements, np.cos(elements), label='cos(Theta)')\n",
    "\n",
    "plt.scatter(close_elements, np.sin(close_elements), color='red')\n",
    "plt.scatter(close_elements, np.cos(close_elements), color='blue')\n",
    "\n",
    "plt.legend()\n",
    "plt.grid()\n",
    "plt.title('Elements with |sin(Theta)-cos(Theta)|<0.1')\n",
    "plt.xlabel('Theta')\n",
    "plt.ylabel('Value')\n",
    "plt.show()"
   ]
  },
  {
   "cell_type": "markdown",
   "metadata": {},
   "source": [
    "### 4.6 \n",
    "\n",
    "Use broadcasting to create a grid of distances (15 MINUTES)\n",
    "\n",
    "Route 66 crosses the following cities in the US: Chicago, Springfield, Saint-Louis, Tulsa, Oklahoma City, Amarillo, Santa Fe, Albuquerque, Flagstaff, Los Angeles\n",
    "The corresponding positions in miles are: 0, 198, 303, 736, 871, 1175, 1475, 1544, 1913, 2448\n",
    "\n",
    "  * Construct a 2D grid of distances among each city along Route 66\n",
    "  * Convert that in km (those savages...)"
   ]
  },
  {
   "cell_type": "code",
   "execution_count": 12,
   "metadata": {},
   "outputs": [
    {
     "name": "stdout",
     "output_type": "stream",
     "text": [
      "[[    0   198   303 ...  1544  1913  2448]\n",
      " [ -198     0   105 ...  1346  1715  2250]\n",
      " [ -303  -105     0 ...  1241  1610  2145]\n",
      " ...\n",
      " [-1544 -1346 -1241 ...     0   369   904]\n",
      " [-1913 -1715 -1610 ...  -369     0   535]\n",
      " [-2448 -2250 -2145 ...  -904  -535     0]]\n",
      "[[    0.        318.64932   487.63002 ...  2484.82096  3078.66742\n",
      "   3939.66432]\n",
      " [ -318.64932     0.        168.9807  ...  2166.17164  2760.0181\n",
      "   3621.015  ]\n",
      " [ -487.63002  -168.9807      0.      ...  1997.19094  2591.0374\n",
      "   3452.0343 ]\n",
      " ...\n",
      " [-2484.82096 -2166.17164 -1997.19094 ...     0.        593.84646\n",
      "   1454.84336]\n",
      " [-3078.66742 -2760.0181  -2591.0374  ...  -593.84646     0.\n",
      "    860.9969 ]\n",
      " [-3939.66432 -3621.015   -3452.0343  ... -1454.84336  -860.9969\n",
      "      0.     ]]\n"
     ]
    }
   ],
   "source": [
    "import numpy as np\n",
    "\n",
    "route66 = [0, 198, 303, 736, 871, 1175, 1475, 1544, 1913, 2448]\n",
    "distances = np.tile(route66, len(route66)) - np.tile(route66, len(route66))[:, np.newaxis]\n",
    "\n",
    "print(distances)\n",
    "print(distances * 1.60934)"
   ]
  },
  {
   "cell_type": "markdown",
   "metadata": {},
   "source": [
    "### 4.7 \n",
    "\n",
    "Prime numbers sieve: compute the prime numbers in the 0-N (N=99 to start with) range with a sieve (mask). (20 MINUTES)\n",
    "  * Constract a shape (100,) boolean array, the mask\n",
    "  * Identify the multiples of each number starting from 2 and set accordingly the corresponding mask element\n",
    "  * Apply the mask to obtain an array of ordered prime numbers\n",
    "  * Check the performances (timeit); how does it scale with N?\n",
    "  * Implement the optimization suggested in the [sieve of Eratosthenes](https://en.wikipedia.org/wiki/Sieve_of_Eratosthenes)\n"
   ]
  },
  {
   "cell_type": "code",
   "execution_count": 16,
   "metadata": {},
   "outputs": [
    {
     "name": "stdout",
     "output_type": "stream",
     "text": [
      "[  1.   2.   3.   4.   5.   6.   7.   8.   9.  10.  11.  12.  13.  14.\n",
      "  15.  16.  17.  18.  19.  20.  21.  22.  23.  24.  25.  26.  27.  28.\n",
      "  29.  30.  31.  32.  33.  34.  35.  36.  37.  38.  39.  40.  41.  42.\n",
      "  43.  44.  45.  46.  47.  48.  49.  50.  51.  52.  53.  54.  55.  56.\n",
      "  57.  58.  59.  60.  61.  62.  63.  64.  65.  66.  67.  68.  69.  70.\n",
      "  71.  72.  73.  74.  75.  76.  77.  78.  79.  80.  81.  82.  83.  84.\n",
      "  85.  86.  87.  88.  89.  90.  91.  92.  93.  94.  95.  96.  97.  98.\n",
      "  99. 100.]\n",
      "[False, True, True, False, True, False, True, False, False, False, True, False, True, False, False, False, True, False, True, False, False, False, True, False, False, False, False, False, True, False, True, False, False, False, False, False, True, False, False, False, True, False, True, False, False, False, True, False, False, False, False, False, True, False, False, False, False, False, True, False, True, False, False, False, False, False, True, False, False, False, True, False, True, False, False, False, False, False, True, False, False, False, True, False, False, False, False, False, True, False, False, False, False, False, False, False, True, False, False, False]\n",
      "Prime numbers in the range (0, 100): [ 2.  3.  5.  7. 11. 13. 17. 19. 23. 29. 31. 37. 41. 43. 47. 53. 59. 61.\n",
      " 67. 71. 73. 79. 83. 89. 97.]\n"
     ]
    }
   ],
   "source": [
    "import numpy as np\n",
    "\n",
    "N = 100\n",
    "\n",
    "numbers = np.linspace(1, N, N)\n",
    "mask = [True] * N\n",
    "mask[0] = False\n",
    "\n",
    "for i in range(2, int(N/2) + 1):\n",
    "    for j in range(i, N):\n",
    "        if numbers[j] % i == 0:\n",
    "            mask[j] = False\n",
    "\n",
    "print(numbers)\n",
    "print(mask)\n",
    "print(f'Prime numbers in the range (0, {N}):',  numbers[mask])"
   ]
  },
  {
   "cell_type": "markdown",
   "metadata": {},
   "source": [
    "### 4.8\n",
    "\n",
    "Diffusion using random walk (30 MINUTES)\n",
    "\n",
    "Consider a simple random walk process: at each step in time, a walker jumps right or left (+1 or -1) with equal probability. The goal is to find the typical distance from the origin of a random walker after a given amount of time. \n",
    "To do that, let's simulate many walkers and create a 2D array with each walker as a raw and the actual time evolution as columns\n",
    "\n",
    "  * Take 1000 walkers and let them walk for 200 steps\n",
    "  * Use randint to create a 2D array of size walkers x steps with values -1 or 1\n",
    "  * Build the actual walking distances for each walker (i.e. another 2D array \"summing on each raw\")\n",
    "  * Take the square of that 2D array (elementwise)\n",
    "  * Compute the mean of the squared distances at each step (i.e. the mean along the columns)\n",
    "  * Plot the average distances (sqrt(distance\\*\\*2)) as a function of time (step)\n",
    "  \n",
    "Did you get what you expected?"
   ]
  },
  {
   "cell_type": "code",
   "execution_count": 17,
   "metadata": {},
   "outputs": [
    {
     "data": {
      "image/png": "[encoded data removed]",
      "text/plain": [
       "<Figure size 640x480 with 1 Axes>"
      ]
     },
     "metadata": {},
     "output_type": "display_data"
    }
   ],
   "source": [
    "import numpy as np\n",
    "\n",
    "walkers = np.random.choice([-1, 1], size=(1000, 200))\n",
    "\n",
    "distance = np.cumsum(walkers, axis= 1)\n",
    "distance = distance ** 2\n",
    "\n",
    "mean_distance = np.sqrt(np.mean(distance, axis= 0))\n",
    "\n",
    "plt.plot(np.arange(200), mean_distance)\n",
    "plt.title('Mean distance over time')\n",
    "plt.xlabel('Distance')\n",
    "plt.ylabel('Time')\n",
    "plt.show()"
   ]
  },
  {
   "cell_type": "markdown",
   "metadata": {},
   "source": [
    "### 4.9 \n",
    "\n",
    "Analyze a data file (15 MINUTES)\n",
    "  * Download the population of hares, lynxes and carrots at the beginning of the last century.\n",
    "    ```python\n",
    "    ! wget https://www.dropbox.com/s/3vigxoqayo389uc/populations.txt\n",
    "    ```\n",
    "\n",
    "  * Check the content by looking within the file\n",
    "  * Load the data (use an appropriate numpy method) into a 2D array\n",
    "  * Create arrays out of the columns, the arrays being (in order): *year*, *hares*, *lynxes*, *carrots* \n",
    "  * Plot the 3 populations over the years\n",
    "  * Compute the main statistical properties of the dataset (mean, std, correlations, etc.)\n",
    "  * Which species has the highest population each year?\n",
    "\n",
    "Do you feel there is some evident correlation here? [Studies](https://www.enr.gov.nt.ca/en/services/lynx/lynx-snowshoe-hare-cycle) tend to believe so."
   ]
  },
  {
   "cell_type": "code",
   "execution_count": 36,
   "metadata": {},
   "outputs": [
    {
     "name": "stdout",
     "output_type": "stream",
     "text": [
      "--2024-02-13 12:12:22--  https://www.dropbox.com/s/3vigxoqayo389uc/populations.txt\n",
      "Resolving www.dropbox.com (www.dropbox.com)... 162.125.69.18, 2620:100:6025:18::a27d:4512\n",
      "Connecting to www.dropbox.com (www.dropbox.com)|162.125.69.18|:443... connected.\n",
      "HTTP request sent, awaiting response... 302 Found\n",
      "Location: /s/raw/3vigxoqayo389uc/populations.txt [following]\n",
      "--2024-02-13 12:12:23--  https://www.dropbox.com/s/raw/3vigxoqayo389uc/populations.txt\n",
      "Reusing existing connection to www.dropbox.com:443.\n",
      "HTTP request sent, awaiting response... 302 Found\n",
      "Location: https://ucf2f5c3913163d9804c90f29a27.dl.dropboxusercontent.com/cd/0/inline/CNOMB1DwvzMELtRMzJADrhV_IVbUoPAZqpeCYpw-esDTqO6UxngzxKCELyYhXbF3aUXHyh0ZCMlAXu5rXteoHmxR4WPS9JFVBCLvfI51Fh5qVgJOEVXPbZYUf3L0oDYj-g8/file# [following]\n",
      "--2024-02-13 12:12:23--  https://ucf2f5c3913163d9804c90f29a27.dl.dropboxusercontent.com/cd/0/inline/CNOMB1DwvzMELtRMzJADrhV_IVbUoPAZqpeCYpw-esDTqO6UxngzxKCELyYhXbF3aUXHyh0ZCMlAXu5rXteoHmxR4WPS9JFVBCLvfI51Fh5qVgJOEVXPbZYUf3L0oDYj-g8/file\n",
      "Resolving ucf2f5c3913163d9804c90f29a27.dl.dropboxusercontent.com (ucf2f5c3913163d9804c90f29a27.dl.dropboxusercontent.com)... 162.125.69.15, 2620:100:6025:15::a27d:450f\n",
      "Connecting to ucf2f5c3913163d9804c90f29a27.dl.dropboxusercontent.com (ucf2f5c3913163d9804c90f29a27.dl.dropboxusercontent.com)|162.125.69.15|:443... connected.\n",
      "HTTP request sent, awaiting response... 200 OK\n",
      "Length: 525 [text/plain]\n",
      "Saving to: ‘populations.txt’\n",
      "\n",
      "populations.txt     100%[===================>]     525  --.-KB/s    in 0s      \n",
      "\n",
      "2024-02-13 12:12:24 (61.8 MB/s) - ‘populations.txt’ saved [525/525]\n",
      "\n",
      "[[ 1900. 30000.  4000. 48300.]\n",
      " [ 1901. 47200.  6100. 48200.]\n",
      " [ 1902. 70200.  9800. 41500.]\n",
      " [ 1903. 77400. 35200. 38200.]\n",
      " [ 1904. 36300. 59400. 40600.]\n",
      " [ 1905. 20600. 41700. 39800.]\n",
      " [ 1906. 18100. 19000. 38600.]\n",
      " [ 1907. 21400. 13000. 42300.]\n",
      " [ 1908. 22000.  8300. 44500.]\n",
      " [ 1909. 25400.  9100. 42100.]\n",
      " [ 1910. 27100.  7400. 46000.]\n",
      " [ 1911. 40300.  8000. 46800.]\n",
      " [ 1912. 57000. 12300. 43800.]\n",
      " [ 1913. 76600. 19500. 40900.]\n",
      " [ 1914. 52300. 45700. 39400.]\n",
      " [ 1915. 19500. 51100. 39000.]\n",
      " [ 1916. 11200. 29700. 36700.]\n",
      " [ 1917.  7600. 15800. 41800.]\n",
      " [ 1918. 14600.  9700. 43300.]\n",
      " [ 1919. 16200. 10100. 41300.]\n",
      " [ 1920. 24700.  8600. 47300.]]\n"
     ]
    },
    {
     "data": {
      "image/png": "[encoded data removed]",
      "text/plain": [
       "<Figure size 640x480 with 1 Axes>"
      ]
     },
     "metadata": {},
     "output_type": "display_data"
    },
    {
     "name": "stdout",
     "output_type": "stream",
     "text": [
      "Means:\n",
      "Hares: 34080.95238095238\n",
      "Lynxes: 20166.666666666668\n",
      "Carrots: 42400.0\n",
      "\n",
      "Standard deviations:\n",
      "Hares: 20897.906458089667\n",
      "Lynxes: 16254.591536908763\n",
      "Carrots: 3322.5062255844787\n",
      "\n",
      "Correlation factors:\n",
      "Hares vs Lynxes: 0.0718920607353557\n",
      "Carrots vs Hares: -0.0166037777098794\n",
      "Lynxes vs Carrots: 0.0718920607353557\n",
      "\n",
      " ['1900.0: Carrots', '1901.0: Carrots', '1902.0: Hares', '1903.0: Hares', '1904.0: Lynxes', '1905.0: Lynxes', '1906.0: Carrots', '1907.0: Carrots', '1908.0: Carrots', '1909.0: Carrots', '1910.0: Carrots', '1911.0: Carrots', '1912.0: Hares', '1913.0: Hares', '1914.0: Hares', '1915.0: Lynxes', '1916.0: Carrots', '1917.0: Carrots', '1918.0: Carrots', '1919.0: Carrots', '1920.0: Carrots']\n"
     ]
    }
   ],
   "source": [
    "! if [ ! -f populations.txt ]; then wget https://www.dropbox.com/s/3vigxoqayo389uc/populations.txt; else echo \"File already exists.\"; fi\n",
    "\n",
    "populations= np.loadtxt('populations.txt')\n",
    "print(populations)\n",
    "\n",
    "year = populations[:, 0]\n",
    "hares = populations[:, 1]\n",
    "lynxes = populations[:, 2]\n",
    "carrots = populations[:, 3]\n",
    "\n",
    "plt.plot(year, hares, label='Hares')\n",
    "plt.plot(year, lynxes, label='Lynxes')\n",
    "plt.plot(year, carrots, label='Carrots')\n",
    "\n",
    "plt.legend()\n",
    "plt.title('Populations over time')\n",
    "plt.xlabel('Year')\n",
    "plt.ylabel('Population')\n",
    "plt.show()\n",
    "\n",
    "mean_hares = np.mean(hares)\n",
    "mean_lynxes = np.mean(lynxes)\n",
    "mean_carrots = np.mean(carrots)\n",
    "\n",
    "std_hares = np.std(hares)\n",
    "std_lynxes = np.std(lynxes)\n",
    "std_carrots = np.std(carrots)\n",
    "\n",
    "corr_hares_lynxes = np.corrcoef(hares, lynxes)[0,1]\n",
    "corr_carrots_hares = np.corrcoef(carrots, hares)[0,1]\n",
    "corr_lynxes_hares = np.corrcoef(lynxes, hares)[0,1]\n",
    "\n",
    "print('Means:')\n",
    "print('Hares:', mean_hares)\n",
    "print('Lynxes:', mean_lynxes)\n",
    "print('Carrots:', mean_carrots)\n",
    "\n",
    "print('\\nStandard deviations:')\n",
    "print('Hares:', std_hares)\n",
    "print('Lynxes:', std_lynxes)\n",
    "print('Carrots:', std_carrots)\n",
    "\n",
    "print('\\nCorrelation factors:')\n",
    "print('Hares vs Lynxes:', corr_hares_lynxes)\n",
    "print('Carrots vs Hares:', corr_carrots_hares)\n",
    "print('Lynxes vs Carrots:', corr_lynxes_hares)\n",
    "\n",
    "max_pop = []\n",
    "for i in range(populations.shape[0]):\n",
    "    if hares[i] > carrots[i] and hares[i] > lynxes[i]:\n",
    "        max_pop.append(str(year[i]) + ': Hares')\n",
    "    elif lynxes[i] > carrots[i] and lynxes[i] > hares[i]:\n",
    "        max_pop.append(str(year[i]) + ': Lynxes')\n",
    "    elif carrots[i] > hares[i] and carrots[i] > lynxes[i]:\n",
    "        max_pop.append(str(year[i]) + ': Carrots')\n",
    "    else: max_pop.append(str(year[i]) + ': ')\n",
    "    \n",
    "print('\\n', max_pop)"
   ]
  },
  {
   "cell_type": "markdown",
   "metadata": {},
   "source": [
    "# 5. OSEMN"
   ]
  },
  {
   "cell_type": "markdown",
   "metadata": {},
   "source": [
    "### 5.4 \n",
    "\n",
    "Load the binary file named *credit_card.dat* and convert the data into the real credit-card number (20 MINUTES).\n",
    "\n",
    "Each line correspond to a credit card number.\n",
    "\n",
    "Each character is composed by 6 bit (even the space) and the last 4 bit are just a padding\n",
    "\n",
    "**hint**: use the `chr()` function to convert a number to a char"
   ]
  },
  {
   "cell_type": "code",
   "execution_count": 41,
   "metadata": {},
   "outputs": [
    {
     "name": "stdout",
     "output_type": "stream",
     "text": [
      "Credit Card 1: 7648 5673 3775 2271\n",
      "Credit Card 2: 3257 8247 3354 2266\n",
      "Credit Card 3: 2722 0001 4011 6652\n",
      "Credit Card 4: 0661 3063 3742 3150\n",
      "Credit Card 5: 0432 1608 1462 4742\n",
      "Credit Card 6: 5827 2027 8785 7303\n",
      "Credit Card 7: 5774 8528 2087 1117\n",
      "Credit Card 8: 8140 1210 6352 2845\n",
      "Credit Card 9: 5764 1133 7301 7100\n",
      "Credit Card 10: 6456 1737 4126 6726\n",
      "Credit Card 11: 1228 8631 7382 0000\n",
      "Credit Card 12: 7051 0160 5374 3166\n",
      "Credit Card 13: 0618 3587 1630 6376\n",
      "Credit Card 14: 1545 5454 7444 5636\n",
      "Credit Card 15: 6735 3116 3202 6834\n",
      "Credit Card 16: 7287 5011 1547 8413\n",
      "Credit Card 17: 7033 2607 3328 4200\n",
      "Credit Card 18: 2568 5244 1874 5024\n",
      "Credit Card 19: 1684 2253 7570 7118\n",
      "Credit Card 20: 0672 2576 0575 6631\n",
      "Credit Card 21: 6332 8353 8787 1340\n",
      "Credit Card 22: 1813 3361 1175 4211\n",
      "Credit Card 23: 2477 6450 8840 2368\n",
      "Credit Card 24: 5512 3505 2563 1326\n",
      "Credit Card 25: 3083 7882 0621 0025\n",
      "Credit Card 26: 4521 5148 8045 0334\n",
      "Credit Card 27: 7563 3654 8713 5787\n",
      "Credit Card 28: 8324 2664 0476 5561\n",
      "Credit Card 29: 0565 2504 7168 3510\n",
      "Credit Card 30: 5107 5507 1767 0738\n",
      "Credit Card 31: 2462 1821 2448 1443\n",
      "Credit Card 32: 2788 0638 6861 6554\n",
      "Credit Card 33: 5851 5873 5474 0547\n",
      "Credit Card 34: 0670 1004 4013 2655\n",
      "Credit Card 35: 5874 5506 3048 0806\n",
      "Credit Card 36: 2805 5401 8462 1260\n",
      "Credit Card 37: 5083 8406 6310 1862\n",
      "Credit Card 38: 1076 1445 3013 2266\n",
      "Credit Card 39: 8440 4804 4844 5277\n",
      "Credit Card 40: 4758 6141 0686 1387\n",
      "Credit Card 41: 7586 0675 0315 2568\n",
      "Credit Card 42: 2544 1258 7432 5165\n",
      "Credit Card 43: 3474 5023 4434 5626\n",
      "Credit Card 44: 1410 0270 0434 5086\n",
      "Credit Card 45: 7315 4446 1104 4215\n",
      "Credit Card 46: 0224 7742 8300 0266\n",
      "Credit Card 47: 0170 2700 3145 0640\n",
      "Credit Card 48: 2006 2437 8054 1600\n",
      "Credit Card 49: 8142 4055 1776 0026\n",
      "Credit Card 50: 3026 7380 1241 1084\n"
     ]
    }
   ],
   "source": [
    "credit_card_numbers = []\n",
    "\n",
    "with open('credit_card.dat', 'rb') as file:\n",
    "    for num, line in enumerate(file):\n",
    "        reverse_line = line[:-1]\n",
    "        if (len(reverse_line) != 4):\n",
    "            current_credit_card = []\n",
    "            \n",
    "            for i in range(int((len(reverse_line) - 4) / 6)):\n",
    "                six_digits = reverse_line[i * 6: (i + 1) * 6]\n",
    "                decimal_number = int(six_digits, 2)\n",
    "                character = chr(decimal_number)\n",
    "                current_credit_card.append(character)\n",
    "                \n",
    "            credit_card_numbers.append(''.join(current_credit_card))\n",
    "\n",
    "for i, credit_card in enumerate(credit_card_numbers, start=1):\n",
    "    print(f'Credit Card {i}: {credit_card}')"
   ]
  },
  {
   "cell_type": "markdown",
   "metadata": {},
   "source": [
    "# 6. PANDAS"
   ]
  },
  {
   "cell_type": "markdown",
   "metadata": {},
   "source": [
    "This exercise consists in analyzing a dataset containg timing information from a series of Time-to-Digital-Converters (TDC) implemented in a couple of FPGAs. Each measurement (i.e. each row of the input file) consists of a flag that specifies the type of message ('HEAD', which in this case is always 1), two addresses of the TDC providing the signal ('FPGA' and 'TDC_CHANNEL'), and the timing information ('ORBIT_CNT', 'BX_COUNTER', and 'TDC_MEAS'). Each TDC count corresponds to 25/30 ns, whereas a unit of BX_COUNTER corresponds to 25 ns, and the ORBIT_CNT is increased every 'x' BX_COUNTER. This allows to store the time in a similar way to hours, minutes and seconds.\n",
    "\n",
    "1\\. Create a Pandas DataFrame reading N rows of the 'data_000637.txt' dataset. Choose N to be smaller than or equal to the maximum number of rows and larger that 10k.\n",
    "\n",
    "2\\. Find out the number of BX in a ORBIT (the value 'x').\n",
    "\n",
    "3\\. Find out how much the data taking lasted. You can either make an estimate based on the fraction of the measurements (rows) you read, or perform this check precisely by reading out the whole dataset.\n",
    "\n",
    "4\\. Create a new column with the absolute time in ns (as a combination of the other three columns with timing information).\n",
    "\n",
    "5\\. Replace the values (all 1) of the HEAD column randomly with 0 or 1.\n",
    "\n",
    "6\\. Create a new DataFrame that contains only the rows with HEAD=1.\n",
    "\n",
    "7\\. Make two occupancy plots (one for each FPGA), i.e. plot the number of counts per TDC channel\n",
    "\n",
    "8\\. Use the groupby method to find out the noisy channels, i.e. the TDC channels with most counts (say the top 3)\n",
    "\n",
    "9\\. Count the number of unique orbits. Count the number of unique orbits with at least one measurement from TDC_CHANNEL=139"
   ]
  },
  {
   "cell_type": "markdown",
   "metadata": {},
   "source": [
    "# 7. VISUALIZATION"
   ]
  },
  {
   "cell_type": "markdown",
   "metadata": {},
   "source": [
    "### 7.1 **Kernel Density Estimate** (40 MINUTES)\n",
    "\n",
    "Produce a KDE for a given distribution (by hand, not using seaborn!):\n",
    "\n",
    "* Fill a numpy array, x,  of len(N) (with N=O(100)) with a variable normally distributed, with a given mean a standard deviation\n",
    "* Fill an histogram in pyplot taking properly care about the aesthetic\n",
    "   * use a meaningful number of bins\n",
    "   * set a proper y axis label\n",
    "   * set proper value of y axis major ticks labels (e.g. you want to display only integer labels)\n",
    "   * display the histograms as data points with errors (the error being the poisson uncertainty)\n",
    "* for every element of x, create a gaussian with the mean corresponding the element value and std as a parameter that can be tuned. The std default value should be:\n",
    "$$ 1.06 * x.std() * x.size ^{-\\frac{1}{5.}} $$\n",
    "you can use the scipy function `stats.norm()` for that.\n",
    "* In a separate plot (to be placed beside the original histogram), plot all the gaussian functions so obtained\n",
    "* Sum (with np.sum()) all the gaussian functions and normalize the result such that the integral matches the integral of the original histogram. For that you could use the `scipy.integrate.trapz()` method"
   ]
  },
  {
   "cell_type": "markdown",
   "metadata": {},
   "source": [
    "### 7.2\\. **Color-coded scatter plot** (10 MINUTES)\n",
    "\n",
    "Produce a scatter plot out of a dataset with two categories\n",
    "\n",
    "* Write a function that generate a 2D datasets of 2 categories. Each category should distribute as a 2D gaussian with a given mean and std (clearly it is better to have different values means..)\n",
    "* Display the dataset in a scatter plot marking the two categories with different marker colors.\n",
    "\n",
    "An example is given below\n",
    "\n",
    "You can try to make the procedure more general by allowing a given number $n\\ge 2$ of categories"
   ]
  },
  {
   "cell_type": "markdown",
   "metadata": {},
   "source": [
    "### 7.3\\. **Profile plot** (30 MINUTES)\n",
    "\n",
    "Produce a profile plot from a scatter plot.\n",
    "* Download the following dataset and load it as a pandas dataframe:\n",
    "```bash\n",
    "wget https://www.dropbox.com/s/hgnvyj9abatk8g6/residuals_261.npy\n",
    "```\n",
    "Note that you should use the `np.load()` function to load the file as a numpy array, call the `.item()` method, and then pass it to the `pd.DataFrame()` constructor.\n",
    "* Inspect the dataset, you'll find two variables (features)\n",
    "* Clean the sample by selecting the entries (rows) with the variable \"residual\" in absolute value smaller than 2\n",
    "* perform a linear regression of \"residuals\" versus \"distances\" using `scipy.stats.linregress()` \n",
    "* plot a seaborn jointplot of  \"residuals\" versus \"distances\", having seaborn performing a linear regression. The result of the regression should be displayed on the plot\n",
    "* Fill 3 numpy arrays\n",
    "  * x, serving as an array of bin centers for the \"distance\" variable. It should range from 0 to 20 with reasonable number of steps (bins)\n",
    "  * y, the mean values of the \"residuals\", estimated in slices (bins) of \"distance\"\n",
    "  * erry, the standard deviation of the  of the \"residuals\", estimated in slices (bins) of \"distance\"\n",
    "* Plot the profile plot on top of the scatter plot"
   ]
  },
  {
   "cell_type": "markdown",
   "metadata": {},
   "source": [
    "# 8. LINEAR ALGEBRA"
   ]
  },
  {
   "cell_type": "markdown",
   "metadata": {},
   "source": [
    "### 8.1\\. **PCA on 3D dataset** (45 MINUTES)\n",
    " \n",
    "* Generate a dataset with 3 features each with N entries (N being ${\\cal O}(1000)$). With $N(\\mu,\\sigma)$ the normali distribution with mean $\\mu$ and $\\sigma$  standard deviation, generate the 3 variables $x_{1,2,3}$ such that:\n",
    "    * $x_1$ is distributed as $N(0,1)$\n",
    "    * $x_2$ is distributed as $x_1+N(0,3)$\n",
    "    * $x_3$ is given by $2x_1+x_2$\n",
    "* Find the eigenvectors and eigenvalues of the covariance matrix of the dataset\n",
    "* Find the eigenvectors and eigenvalues using SVD. Check that the two procedures yield to same result\n",
    "* What percent of the total dataset's variability is explained by the principal components? Given how the dataset was constructed, do these make sense? Reduce the dimensionality of the system so that at least 99% of the total variability is retained.\n",
    "* Redefine the data in the basis yielded by the PCA procedure\n",
    "* Plot the data points in the original and the new coordiantes as a set of scatter plots. Your final figure should have 2 rows of 3 plots each, where the columns show the (0,1), (0,2) and (1,2) proejctions."
   ]
  },
  {
   "cell_type": "markdown",
   "metadata": {},
   "source": [
    "### 8.3 \\. **Looking at an oscillating spring** (60 MINUTES)\n",
    "\n",
    "Imagine you have $n$ cameras looking at a spring oscillating along the $x$ axis. Each  camera record the motion of the spring looking at it along a given direction defined by the pair $(\\theta_i, \\phi_i)$, the angles in spherical coordinates. \n",
    "\n",
    "Start from the simulation of the records (say ${\\cal O}(1000)$) of the spring's motion along the x axis, assuming a little random noise affects the measurements along the $y$. Rotate such dataset to emulate the records of each camera.\n",
    "\n",
    "Perform a Principal Component Analysis on the thus obtained dataset, aiming at finding the only one coordinate that really matters.\n"
   ]
  },
  {
   "cell_type": "markdown",
   "metadata": {},
   "source": [
    "# 9. ALGORITHMS "
   ]
  },
  {
   "cell_type": "markdown",
   "metadata": {},
   "source": [
    "### 9.1\\. **Maximum wind speed prediction at the Sprogø station** (30 MINUTES)\n",
    "\n",
    "The exercise goal is to predict the maximum wind speed occurring every 50 years even if no measure exists for such a period. The available data are only measured over 21 years at the Sprogø meteorological station located in Denmark. \n",
    "\n",
    "The annual maxima are supposed to fit a normal probability density function. However such function is not going to be estimated because it gives a probability from a wind speed maxima. Finding the maximum wind speed occurring every 50 years requires the opposite approach, the result needs to be found from a defined probability. That is the quantile function role and the exercise goal will be to find it. In the current model, it is supposed that the maximum wind speed occurring every 50 years is defined as the upper 2% quantile.\n",
    "\n",
    "By definition, the quantile function is the inverse of the cumulative distribution function. The latter describes the probability distribution of an annual maxima. In the exercise, the cumulative probability $p_i$ for a given year i is defined as $p_i = i/(N+1)$ with $N = 21$, the number of measured years. Thus it will be possible to calculate the cumulative probability of every measured wind speed maxima. From those experimental points, the scipy.interpolate module will be very useful for fitting the quantile function. Finally the 50 years maxima is going to be evaluated from the cumulative probability of the 2% quantile.\n",
    "\n",
    "Practically, load the dataset:\n",
    "\n",
    "```python\n",
    "import numpy as np\n",
    "max_speeds = np.load('max-speeds.npy')\n",
    "years_nb = max_speeds.shape[0]\n",
    "```\n",
    "\n",
    "Compute then the cumulative probability $p_i$ (`cprob`) and sort the maximum speeds from the data. Use then the  UnivariateSpline from scipy.interpolate to define a quantile function and thus estimate the probabilities.\n",
    "\n",
    "In the current model, the maximum wind speed occurring every 50 years is defined as the upper 2% quantile. As a result, the cumulative probability value will be:\n",
    "\n",
    "```python\n",
    "fifty_prob = 1. - 0.02\n",
    "```\n",
    "\n",
    "So the storm wind speed occurring every 50 years can be guessed as:\n",
    "\n",
    "``` python\n",
    "fifty_wind = quantile_func(fifty_prob)\n",
    "```"
   ]
  },
  {
   "cell_type": "markdown",
   "metadata": {},
   "source": [
    "### 9.2\\. **Curve fitting of temperature in Alaska** (20 MINUTES)\n",
    "\n",
    "The temperature extremes in Alaska for each month, starting in January, are given by (in degrees Celcius):\n",
    "\n",
    "max:  17,  19,  21,  28,  33,  38, 37,  37,  31,  23,  19,  18\n",
    "\n",
    "min: -62, -59, -56, -46, -32, -18, -9, -13, -25, -46, -52, -58\n",
    "\n",
    "* Plot these temperature extremes.\n",
    "* Define a function that can describe min and max temperatures. \n",
    "* Fit this function to the data with scipy.optimize.curve_fit().\n",
    "* Plot the result. Is the fit reasonable? If not, why?\n",
    "* Is the time offset for min and max temperatures the same within the fit accuracy?"
   ]
  },
  {
   "cell_type": "markdown",
   "metadata": {},
   "source": [
    "### 9.3\\. **2D minimization of a six-hump camelback function** (20 MINUTES)\n",
    "\n",
    "$$\n",
    "f(x,y) = \\left(4-2.1x^2+\\frac{x^4}{3} \\right) x^2 +xy + (4y^2 -4)y^2\n",
    "$$\n",
    "\n",
    "has multiple global and local minima. Find the global minima of this function.\n",
    "\n",
    "Hints:\n",
    "\n",
    "* Variables can be restricted to $-2 < x < 2$ and $-1 < y < 1$.\n",
    "* Use numpy.meshgrid() and pylab.imshow() to find visually the regions.\n",
    "* Use scipy.optimize.minimize(), optionally trying out several of its methods.\n",
    "\n",
    "How many global minima are there, and what is the function value at those points? What happens for an initial guess of $(x, y) = (0, 0)$ ?"
   ]
  },
  {
   "cell_type": "markdown",
   "metadata": {},
   "source": [
    "### 9.5\\. **FFT of an image** (30 MINUTES)\n",
    "\n",
    "* Examine the provided image `moonlanding.png`, which is heavily contaminated with periodic noise. In this exercise, we aim to clean up the noise using the Fast Fourier Transform.\n",
    "* Load the image using pylab.imread().\n",
    "* Find and use the 2-D FFT function in scipy.fftpack, and plot the spectrum (Fourier transform of) the image. Do you have any trouble visualising the spectrum? If so, why?\n",
    "* The spectrum consists of high and low frequency components. The noise is contained in the high-frequency part of the spectrum, so set some of those components to zero (use array slicing).\n",
    "* Apply the inverse Fourier transform to see the resulting image."
   ]
  },
  {
   "cell_type": "markdown",
   "metadata": {},
   "source": [
    "# 10. MONTECARLO"
   ]
  },
  {
   "cell_type": "markdown",
   "metadata": {},
   "source": [
    "### 10.1\\. **Radioactive decay chain** (30 MINUTES)\n",
    "\n",
    "${\\rm Tl}^{208}$ decays to ${\\rm Pb}^{208}$ with a half-lieve of 3.052 minutes. Suppose to start with a sample of 1000 Thallium atoms and 0 of Lead atoms.\n",
    "\n",
    "* Take steps in time of 1 second and at each time-step decide whether each Tl atom has decayed or not, accordingly to the probability $p(t)=1-2^{-t/\\tau}$. Subtract the total number of Tl atoms that decayed at each step from the Tl sample and add them to the Lead one. Plot the evolution of the two sets as a function of time  \n",
    "* Repeat the exercise by means of the inverse transform method: draw 1000 random numbers from the non-uniform probability distribution $p(t)=2^{-t/\\tau}\\frac{\\ln 2}{\\tau}$ to represent the times of decay of the 1000 Tl atoms. Make a plot showing the number of atoms that have not decayed as a function of time"
   ]
  },
  {
   "cell_type": "markdown",
   "metadata": {},
   "source": [
    "### 10.2\\. **Rutherford Scattering** (30 MINUTES)\n",
    "\n",
    "The scattering angle $\\theta$ of $\\alpha$ particles hitting a positively charged nucleus of a Gold atom ($Z=79$) follows the rule:\n",
    "\n",
    "$$\n",
    "\\tan{\\frac{1}{2} \\theta} = \\frac{Z e^2} {2\\pi \\epsilon_0 E b}\n",
    "$$\n",
    "\n",
    "where $E=7.7$ MeV and $b$ beam is the impact parameter. The beam is represented by a 2D gaussian distribution with $\\sigma=a_0/100$ for both coordinates ($a_0$ being the Bohr radius). Assume 1 million $\\alpha$ particles are shot on the gold atom.\n",
    "\n",
    "Computing the fraction of particles that \"bounce back\",i.e. those particle whose scattering angle is greater than $\\pi/2$ (which set a condition on the impact parameter $b$)"
   ]
  },
  {
   "cell_type": "markdown",
   "metadata": {},
   "source": [
    "### 10.3\\. **Monte Carlo integration: hit/miss vs mean value method** (30 MINUTES)\n",
    "\n",
    "Consider the function \n",
    "\n",
    "$$f(x) =\\sin^2{\\frac{1}{x(2-x)}}$$\n",
    "\n",
    "* Compute the integral of $f(x)$ between 0 and 2 with the hit/miss method. Evaluate the error of your estimate\n",
    "* Repeat the integral with the mean value method. Evaluate the error and compare it with the previous one"
   ]
  },
  {
   "cell_type": "markdown",
   "metadata": {},
   "source": [
    "### 10.4\\. **Monte Carlo integration in high dimension** (30 MINUTES)\n",
    "\n",
    "* Start of by computing the area of a circle of unit radius, by integrating the function \n",
    "\n",
    "$$\n",
    "f(x,y)=\n",
    "\\left\\{\n",
    "\\begin{array}{ll}\n",
    "      1 & x^2+y^2\\le 1 \\\\\n",
    "      0 & {\\rm elsewhere}\n",
    "\\end{array} \n",
    "\\right.\n",
    "$$\n",
    "\n",
    "* Generalize the result for a 10D sphere"
   ]
  },
  {
   "cell_type": "markdown",
   "metadata": {},
   "source": [
    "### 10.5\\. **Monte Carlo integration with importance sampling**  (30 MINUTES)\n",
    "\n",
    "Calculate the value of the integral:\n",
    "\n",
    "$$\n",
    "I=\\int_0^1 \\frac{x^{-1/2}}{e^x+1} dx\n",
    "$$\n",
    "\n",
    "using the importance sampling method with $w(x)=1/\\sqrt{x}$. You should get a result about 0.84"
   ]
  }
 ],
 "metadata": {
  "kernelspec": {
   "display_name": "base",
   "language": "python",
   "name": "python3"
  },
  "language_info": {
   "codemirror_mode": {
    "name": "ipython",
    "version": 3
   },
   "file_extension": ".py",
   "mimetype": "text/x-python",
   "name": "python",
   "nbconvert_exporter": "python",
   "pygments_lexer": "ipython3",
   "version": "3.1.0"
  }
 },
 "nbformat": 4,
 "nbformat_minor": 2
}
