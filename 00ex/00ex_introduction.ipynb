{
 "cells": [
  {
   "cell_type": "markdown",
   "metadata": {},
   "source": [
    "# 00. Introduction\n",
    "\n",
    "### 1\\. The MickeyMouse problem\n",
    "\n",
    "a) Write a program that prints the numbers from 1 to 100. But for multiples of 3 print `Mickey` instead of the corresponding number and for the multiples of 5 print `Mouse`. For numbers which are multiples of both three and five print `MickeyMouse`\n",
    "\n",
    "b) Put the result in a tuple and substitute `Mickey` with `Donald` and `Mouse` with `Duck`"
   ]
  },
  {
   "cell_type": "code",
   "execution_count": 2,
   "metadata": {},
   "outputs": [
    {
     "name": "stdout",
     "output_type": "stream",
     "text": [
      "['1', '2', 'Mickey', '4', 'Mouse', 'Mickey', '7', '8', 'Mickey', 'Mouse', '11', 'Mickey', '13', '14', 'MickeyMouse', '16', '17', 'Mickey', '19', 'Mouse', 'Mickey', '22', '23', 'Mickey', 'Mouse', '26', 'Mickey', '28', '29', 'MickeyMouse', '31', '32', 'Mickey', '34', 'Mouse', 'Mickey', '37', '38', 'Mickey', 'Mouse', '41', 'Mickey', '43', '44', 'MickeyMouse', '46', '47', 'Mickey', '49', 'Mouse', 'Mickey', '52', '53', 'Mickey', 'Mouse', '56', 'Mickey', '58', '59', 'MickeyMouse', '61', '62', 'Mickey', '64', 'Mouse', 'Mickey', '67', '68', 'Mickey', 'Mouse', '71', 'Mickey', '73', '74', 'MickeyMouse', '76', '77', 'Mickey', '79', 'Mouse', 'Mickey', '82', '83', 'Mickey', 'Mouse', '86', 'Mickey', '88', '89', 'MickeyMouse', '91', '92', 'Mickey', '94', 'Mouse', 'Mickey', '97', '98', 'Mickey', 'Mouse']\n",
      "('1', '2', 'Donald', '4', 'Duck', 'Donald', '7', '8', 'Donald', 'Duck', '11', 'Donald', '13', '14', 'DonaldDuck', '16', '17', 'Donald', '19', 'Duck', 'Donald', '22', '23', 'Donald', 'Duck', '26', 'Donald', '28', '29', 'DonaldDuck', '31', '32', 'Donald', '34', 'Duck', 'Donald', '37', '38', 'Donald', 'Duck', '41', 'Donald', '43', '44', 'DonaldDuck', '46', '47', 'Donald', '49', 'Duck', 'Donald', '52', '53', 'Donald', 'Duck', '56', 'Donald', '58', '59', 'DonaldDuck', '61', '62', 'Donald', '64', 'Duck', 'Donald', '67', '68', 'Donald', 'Duck', '71', 'Donald', '73', '74', 'DonaldDuck', '76', '77', 'Donald', '79', 'Duck', 'Donald', '82', '83', 'Donald', 'Duck', '86', 'Donald', '88', '89', 'DonaldDuck', '91', '92', 'Donald', '94', 'Duck', 'Donald', '97', '98', 'Donald', 'Duck')\n"
     ]
    }
   ],
   "source": [
    "b = \"Mickey\"\n",
    "c = \"Mouse\"\n",
    "pluto = []\n",
    "\n",
    "for a in range(1, 101):\n",
    "    pippo = \"\"\n",
    "    \n",
    "    if a % 3 == 0:\n",
    "        pippo = pippo + b\n",
    "        \n",
    "    if a % 5 == 0:\n",
    "        pippo = pippo + c\n",
    "        \n",
    "    if pippo == \"\":\n",
    "        pippo = str(a)\n",
    "        \n",
    "    pluto.append(pippo)\n",
    "    \n",
    "print(pluto)\n",
    " \n",
    "giorgio = tuple(x.replace(\"Mickey\", \"Donald\").replace(\"Mouse\", \"Duck\") for x in pluto)   \n",
    "print(giorgio)"
   ]
  },
  {
   "cell_type": "markdown",
   "metadata": {},
   "source": [
    "### 2\\. The swap function\n",
    "\n",
    "Write a function that swap the values of two input variables x and y (whatever the type). Try to do that also without a temporary variable"
   ]
  },
  {
   "cell_type": "code",
   "execution_count": 14,
   "metadata": {},
   "outputs": [
    {
     "name": "stdout",
     "output_type": "stream",
     "text": [
      "('it', [4, 5, 'list'])\n",
      "('it', [4, 5, 'list'])\n"
     ]
    }
   ],
   "source": [
    "def swap(x, y):\n",
    "    t = x\n",
    "    x = y\n",
    "    y = t\n",
    "    return x, y\n",
    "\n",
    "print(swap([4, 5, 'list'], \"it\"))\n",
    "\n",
    "def swap2(x, y):\n",
    "    return y, x\n",
    "\n",
    "print(swap2([4, 5, 'list'], \"it\"))"
   ]
  },
  {
   "cell_type": "markdown",
   "metadata": {},
   "source": [
    "### 3\\. Computing the distance\n",
    "\n",
    "Write a function that calculates and returns the euclidean distance between two points *u* and *v*, where *u* and *v* are both 2-tuples *(x,y)*. For example, if *u=(3,0)* and *v=(0,4)*, the function should return 5"
   ]
  },
  {
   "cell_type": "code",
   "execution_count": 13,
   "metadata": {},
   "outputs": [
    {
     "name": "stdout",
     "output_type": "stream",
     "text": [
      "5.0\n"
     ]
    }
   ],
   "source": [
    "def distance(u = (), v = ()):\n",
    "    if len(u) == len(v) == 2:\n",
    "        return ((u[0] - v[0])**2 + (u[1] - v[1])**2)**(1/2)\n",
    "    else: \n",
    "        print(\"Not valid input\")\n",
    "        \n",
    "print(distance((0, 3), (4, 0)))"
   ]
  },
  {
   "cell_type": "markdown",
   "metadata": {},
   "source": [
    "### 4\\. Counting letters\n",
    "\n",
    "Write a program to calculate the number of times each character occurs in a given string *s*. Ignore differneces in capitalization"
   ]
  },
  {
   "cell_type": "code",
   "execution_count": 9,
   "metadata": {},
   "outputs": [],
   "source": [
    "s=\"Write a program that prints the numbers from 1 to 100. \\\n",
    "But for multiples of three print Mickey instead of the number and for the multiples of five print Mouse. \\\n",
    "For numbers which are multiples of both three and five print MickeyMouse\""
   ]
  },
  {
   "cell_type": "code",
   "execution_count": 12,
   "metadata": {},
   "outputs": [
    {
     "name": "stdout",
     "output_type": "stream",
     "text": [
      "[('a', 7), ('b', 5), ('c', 3), ('d', 3), ('e', 22), ('f', 10), ('g', 1), ('h', 9), ('i', 14), ('j', 0), ('k', 2), ('l', 6), ('m', 12), ('n', 10), ('o', 13), ('p', 8), ('q', 0), ('r', 17), ('s', 9), ('t', 19), ('u', 9), ('v', 2), ('w', 2), ('x', 0), ('y', 2), ('z', 0)]\n"
     ]
    }
   ],
   "source": [
    "import string\n",
    "\n",
    "alphabet = string.ascii_lowercase\n",
    "\n",
    "s = s.lower()\n",
    "\n",
    "letters = []\n",
    "for i in alphabet:\n",
    "    letters.append((i, s.count(i)))\n",
    "    \n",
    "print(letters)"
   ]
  },
  {
   "cell_type": "markdown",
   "metadata": {},
   "source": [
    "### 5\\. Isolating the unique\n",
    "\n",
    "Write a function that determines and count the unique numbers in the list *l*"
   ]
  },
  {
   "cell_type": "code",
   "execution_count": 7,
   "metadata": {},
   "outputs": [],
   "source": [
    "l = [36, 45, 58, 3, 74, 96, 64, 45, 31, 10, 24, 19, 33, 86, 99, 18, 63, 70, 85,\n",
    " 85, 63, 47, 56, 42, 70, 84, 88, 55, 20, 54, 8, 56, 51, 79, 81, 57, 37, 91,\n",
    " 1, 84, 84, 36, 66, 9, 89, 50, 42, 91, 50, 95, 90, 98, 39, 16, 82, 31, 92, 41,\n",
    " 45, 30, 66, 70, 34, 85, 94, 5, 3, 36, 72, 91, 84, 34, 87, 75, 53, 51, 20, 89, 51, 20]"
   ]
  },
  {
   "cell_type": "code",
   "execution_count": 8,
   "metadata": {},
   "outputs": [
    {
     "name": "stdout",
     "output_type": "stream",
     "text": [
      "{1: 1, 3: 2, 5: 1, 8: 1, 9: 1, 10: 1, 16: 1, 18: 1, 19: 1, 20: 3, 24: 1, 30: 1, 31: 2, 33: 1, 34: 2, 36: 3, 37: 1, 39: 1, 41: 1, 42: 2, 45: 3, 47: 1, 50: 2, 51: 3, 53: 1, 54: 1, 55: 1, 56: 2, 57: 1, 58: 1, 63: 2, 64: 1, 66: 2, 70: 3, 72: 1, 74: 1, 75: 1, 79: 1, 81: 1, 82: 1, 84: 4, 85: 3, 86: 1, 87: 1, 88: 1, 89: 2, 90: 1, 91: 3, 92: 1, 94: 1, 95: 1, 96: 1, 98: 1, 99: 1}\n"
     ]
    }
   ],
   "source": [
    "A = {}\n",
    "l.sort() # just for the seek of clarity\n",
    "\n",
    "for i in l:    \n",
    "    if i in A.keys():\n",
    "        A.update({i: A[i] + 1})\n",
    "            \n",
    "    else:\n",
    "        A[i] = 1\n",
    "\n",
    "print(A)"
   ]
  },
  {
   "cell_type": "markdown",
   "metadata": {},
   "source": [
    "### 6\\. Combination of functions\n",
    "\n",
    "Write two functions - one that returns the square of a number, and one that returns the cube. Now write a third function that returns the number raised to the 6th power using the two previous functions."
   ]
  },
  {
   "cell_type": "code",
   "execution_count": 6,
   "metadata": {},
   "outputs": [
    {
     "name": "stdout",
     "output_type": "stream",
     "text": [
      "64\n"
     ]
    }
   ],
   "source": [
    "def square(x):\n",
    "    return x**2\n",
    "\n",
    "def cube(y):\n",
    "    return y**3\n",
    "\n",
    "def sixth_pow(z):\n",
    "    return square(cube(z))\n",
    "\n",
    "print(sixth_pow(2))"
   ]
  },
  {
   "cell_type": "markdown",
   "metadata": {},
   "source": [
    "### 7\\. Cubes\n",
    "\n",
    "Create a list of the cubes of x for x in *[0, 10]* using:\n",
    "\n",
    "a) a for loop\n",
    "\n",
    "b) a list comprehension"
   ]
  },
  {
   "cell_type": "code",
   "execution_count": 5,
   "metadata": {},
   "outputs": [
    {
     "name": "stdout",
     "output_type": "stream",
     "text": [
      "[0, 1, 8, 27, 64, 125, 216, 343, 512, 729, 1000]\n",
      "[0, 1, 8, 27, 64, 125, 216, 343, 512, 729, 1000]\n"
     ]
    }
   ],
   "source": [
    "pluto = []\n",
    "\n",
    "for x in range(11):\n",
    "    pluto.append(x**3)\n",
    "\n",
    "print(pluto)\n",
    "\n",
    "pippo = [x**3 for x in range(11)]\n",
    "\n",
    "print(pippo)"
   ]
  },
  {
   "cell_type": "markdown",
   "metadata": {},
   "source": [
    "### 8\\. Nested list comprehension\n",
    "\n",
    "A Pythagorean triple is an integer solution to the Pythagorean theorem $a^2+b^2=c^2$. The first Pythagorean triple is (3,4,5). Find and put in a tuple all unique Pythagorean triples for the positive integers a, b and c less than 100."
   ]
  },
  {
   "cell_type": "code",
   "execution_count": 4,
   "metadata": {},
   "outputs": [
    {
     "name": "stdout",
     "output_type": "stream",
     "text": [
      "([3, 4, 5.0], [5, 12, 13.0], [6, 8, 10.0], [7, 24, 25.0], [8, 15, 17.0], [9, 12, 15.0], [9, 40, 41.0], [10, 24, 26.0], [11, 60, 61.0], [12, 16, 20.0], [12, 35, 37.0], [13, 84, 85.0], [14, 48, 50.0], [15, 20, 25.0], [15, 36, 39.0], [16, 30, 34.0], [16, 63, 65.0], [18, 24, 30.0], [18, 80, 82.0], [20, 21, 29.0], [20, 48, 52.0], [21, 28, 35.0], [21, 72, 75.0], [24, 32, 40.0], [24, 45, 51.0], [24, 70, 74.0], [25, 60, 65.0], [27, 36, 45.0], [28, 45, 53.0], [30, 40, 50.0], [30, 72, 78.0], [32, 60, 68.0], [33, 44, 55.0], [33, 56, 65.0], [35, 84, 91.0], [36, 48, 60.0], [36, 77, 85.0], [39, 52, 65.0], [39, 80, 89.0], [40, 42, 58.0], [40, 75, 85.0], [42, 56, 70.0], [45, 60, 75.0], [48, 55, 73.0], [48, 64, 80.0], [51, 68, 85.0], [54, 72, 90.0], [57, 76, 95.0], [60, 63, 87.0], [65, 72, 97.0])\n"
     ]
    }
   ],
   "source": [
    "c = tuple([a, b, (a**2 + b** 2)**(1/2)] for a in range(1, 100) for b in range (a, 100) if (a**2 + b** 2)**(1/2) < 100 if float.is_integer((a**2 + b** 2)**(1/2)))\n",
    "\n",
    "print(c)"
   ]
  },
  {
   "cell_type": "markdown",
   "metadata": {},
   "source": [
    "### 9\\. Normalization\n",
    "\n",
    "Write a function that takes a tuple of numbers and returns it with the entries normalized to one"
   ]
  },
  {
   "cell_type": "code",
   "execution_count": 3,
   "metadata": {},
   "outputs": [
    {
     "name": "stdout",
     "output_type": "stream",
     "text": [
      "(0.7071067811865475, 0.0, 0.7071067811865475, 0.0, 0.0, 0.0, 0.0)\n"
     ]
    }
   ],
   "source": [
    "def normalize(x = tuple()):\n",
    "    y = list(x)\n",
    "    norm = (sum(i**2 for i in y))**(1/2)\n",
    "    \n",
    "    for i in range(0, len(y)):\n",
    "        y[i] = y[i]/norm\n",
    "\n",
    "    return tuple(y)\n",
    "\n",
    "print(normalize((1, 0, 1, 0, 0, 0, 0)))"
   ]
  }
 ],
 "metadata": {
  "kernelspec": {
   "display_name": "Python 3 (ipykernel)",
   "language": "python",
   "name": "python3"
  },
  "language_info": {
   "codemirror_mode": {
    "name": "ipython",
    "version": 3
   },
   "file_extension": ".py",
   "mimetype": "text/x-python",
   "name": "python",
   "nbconvert_exporter": "python",
   "pygments_lexer": "ipython3",
   "version": "3.11.5"
  }
 },
 "nbformat": 4,
 "nbformat_minor": 4
}
