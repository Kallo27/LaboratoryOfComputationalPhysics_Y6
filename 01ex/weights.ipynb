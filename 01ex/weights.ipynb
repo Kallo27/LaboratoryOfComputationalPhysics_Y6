{
 "cells": [
  {
   "cell_type": "markdown",
   "id": "e7e4aad8-c75e-40e0-a6e2-4532472e6a31",
   "metadata": {
    "tags": []
   },
   "source": [
    "### 5\\. Use HOFs (zip in particular) to compute the weight of a circle, a disk and a sphere, assuming different radii and different densities:\n",
    "\n",
    "```python\n",
    "densities = {\"Al\":[0.5,1,2],\"Fe\":[3,4,5],\"Pb\": [15,20,30]}\n",
    "radii = [1,2,3]\n",
    "```\n",
    "\n",
    "where the entries of the dictionary's values are the linear, superficial and volumetric densities of the materials respectively.\n",
    "\n",
    "In particular define a list of three lambda functions using a comprehension that computes the circumference, the area and the volume for a given radius.\n"
   ]
  },
  {
   "cell_type": "markdown",
   "id": "4645597c-76cd-4114-8b92-66dc6664c67a",
   "metadata": {},
   "source": [
    "### Solution:"
   ]
  },
  {
   "cell_type": "code",
   "execution_count": 291,
   "id": "f7e5db8b-0aa9-458f-aaeb-6eed92445e8f",
   "metadata": {
    "tags": []
   },
   "outputs": [
    {
     "name": "stdout",
     "output_type": "stream",
     "text": [
      "[3.141592653589793, 18.84955592153876, 94.24777960769379, 3.141592653589793, 12.566370614359172, 62.83185307179586, 8.377580409572781, 20.94395102393195, 125.66370614359172, 6.283185307179586, 37.69911184307752, 188.49555921538757, 12.566370614359172, 50.26548245743669, 251.32741228718345, 67.02064327658225, 167.5516081914556, 1005.3096491487338, 9.42477796076938, 56.548667764616276, 282.74333882308133, 28.274333882308138, 113.09733552923255, 565.4866776461628, 226.19467105846508, 565.4866776461627, 3392.9200658769764]\n"
     ]
    }
   ],
   "source": [
    "import math as m\n",
    "\n",
    "densities = {\"Al\":[0.5,1,2],\"Fe\":[3,4,5],\"Pb\": [15,20,30]}\n",
    "radii = [1,2,3]\n",
    "\n",
    "lambdaf = [lambda r, d: 2 * d * m.pi * r, lambda r, d: d * m.pi * r ** 2, lambda r, d: d * (4/3) * m.pi * r ** 3]\n",
    "\n",
    "dens = list(zip(zip(densities[\"Al\"], densities[\"Fe\"], densities[\"Pb\"]), lambdaf))\n",
    "\n",
    "print([gino(i, d) for i in radii for d_vec, gino in dens for d in d_vec])\n"
   ]
  }
 ],
 "metadata": {
  "kernelspec": {
   "display_name": "Python 3 (ipykernel)",
   "language": "python",
   "name": "python3"
  },
  "language_info": {
   "codemirror_mode": {
    "name": "ipython",
    "version": 3
   },
   "file_extension": ".py",
   "mimetype": "text/x-python",
   "name": "python",
   "nbconvert_exporter": "python",
   "pygments_lexer": "ipython3",
   "version": "3.10.12"
  }
 },
 "nbformat": 4,
 "nbformat_minor": 5
}
