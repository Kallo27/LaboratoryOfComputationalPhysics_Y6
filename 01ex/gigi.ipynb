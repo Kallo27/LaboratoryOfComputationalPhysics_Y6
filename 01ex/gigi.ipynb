{
 "cells": [
  {
   "cell_type": "markdown",
   "id": "b591b268-ed0d-4225-85e7-42754f12da38",
   "metadata": {},
   "source": [
    "0\\. Implement a function (whatever you want) and save it to a file (e.g. `function.py`). Import that file and use that function in this notebook.\n"
   ]
  },
  {
   "cell_type": "code",
   "execution_count": null,
   "id": "d4a93a2c-f282-4fe9-b597-b65b8acb94a0",
   "metadata": {
    "tags": []
   },
   "outputs": [],
   "source": [
    "import gigi as gg"
   ]
  },
  {
   "cell_type": "code",
   "execution_count": 5,
   "id": "abbc84c7-7a95-4687-ac01-433e7ba0f666",
   "metadata": {
    "tags": []
   },
   "outputs": [
    {
     "name": "stdout",
     "output_type": "stream",
     "text": [
      "9\n"
     ]
    }
   ],
   "source": [
    "print(gg.func(3, 6))"
   ]
  }
 ],
 "metadata": {
  "kernelspec": {
   "display_name": "Python 3 (ipykernel)",
   "language": "python",
   "name": "python3"
  },
  "language_info": {
   "codemirror_mode": {
    "name": "ipython",
    "version": 3
   },
   "file_extension": ".py",
   "mimetype": "text/x-python",
   "name": "python",
   "nbconvert_exporter": "python",
   "pygments_lexer": "ipython3",
   "version": "3.10.12"
  }
 },
 "nbformat": 4,
 "nbformat_minor": 5
}
