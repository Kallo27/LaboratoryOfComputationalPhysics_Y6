{
 "cells": [
  {
   "cell_type": "markdown",
   "id": "65bd91b6-308f-4f21-9558-fe8f5b102bbf",
   "metadata": {},
   "source": [
    "### 3\\. Write a `decorator` hello that makes every wrapped function print “Hello!”, i.e. something like:\n",
    "\n",
    "```python\n",
    "@hello\n",
    "def square(x):\n",
    "    return x*x\n",
    "```\n"
   ]
  },
  {
   "cell_type": "markdown",
   "id": "e7cfeae7-ea20-4552-b83d-e1a41da824f2",
   "metadata": {},
   "source": [
    "### Solution:"
   ]
  },
  {
   "cell_type": "code",
   "execution_count": 24,
   "id": "cdf26391-497f-4346-99f5-cac71fca0b85",
   "metadata": {
    "tags": []
   },
   "outputs": [],
   "source": [
    "def hello(func):\n",
    "    def pippo(*args, **kwargs):\n",
    "        print('Hello!')\n",
    "        print(func(*args, **kwargs))\n",
    "    return pippo"
   ]
  },
  {
   "cell_type": "code",
   "execution_count": 25,
   "id": "302bcc04-061f-4204-b7c7-6938010fbe8a",
   "metadata": {
    "tags": []
   },
   "outputs": [],
   "source": [
    "@hello\n",
    "def square(x):\n",
    "    return x*x"
   ]
  },
  {
   "cell_type": "code",
   "execution_count": 26,
   "id": "4697425f-d871-42fa-91af-6a84ff491fe4",
   "metadata": {
    "tags": []
   },
   "outputs": [],
   "source": [
    "@hello\n",
    "def gigi(a):\n",
    "    return 'Ciao ' + a"
   ]
  },
  {
   "cell_type": "code",
   "execution_count": 27,
   "id": "21ceba3a-fa1f-4941-b1b8-967b8273d5a6",
   "metadata": {
    "tags": []
   },
   "outputs": [
    {
     "name": "stdout",
     "output_type": "stream",
     "text": [
      "Hello!\n",
      "25\n",
      "Hello!\n",
      "Ciao Fede\n"
     ]
    }
   ],
   "source": [
    "square(5)\n",
    "gigi('Fede')"
   ]
  }
 ],
 "metadata": {
  "kernelspec": {
   "display_name": "Python 3 (ipykernel)",
   "language": "python",
   "name": "python3"
  },
  "language_info": {
   "codemirror_mode": {
    "name": "ipython",
    "version": 3
   },
   "file_extension": ".py",
   "mimetype": "text/x-python",
   "name": "python",
   "nbconvert_exporter": "python",
   "pygments_lexer": "ipython3",
   "version": "3.10.12"
  }
 },
 "nbformat": 4,
 "nbformat_minor": 5
}
