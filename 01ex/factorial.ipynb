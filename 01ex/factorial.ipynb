{
 "cells": [
  {
   "cell_type": "markdown",
   "id": "88152903-4e06-4d2f-93aa-b82ba55b4b51",
   "metadata": {},
   "source": [
    "### 4\\. Write the factorial function so that it a) does and b) does not use recursion."
   ]
  },
  {
   "cell_type": "code",
   "execution_count": 48,
   "id": "df021c9d-ca61-4fd5-8539-0d78fa085171",
   "metadata": {
    "tags": []
   },
   "outputs": [],
   "source": [
    "# 1\n",
    "def factorial1(n):\n",
    "    if type(n) == int:\n",
    "        if n == 0 or n == 1:\n",
    "            return 1\n",
    "        else:\n",
    "            return n * factorial1(n-1)\n",
    "        \n",
    "    else: \n",
    "        return 'Not valid input'"
   ]
  },
  {
   "cell_type": "code",
   "execution_count": 49,
   "id": "ead3f32b-1ecd-44ce-bbf1-be27b2f0eb7b",
   "metadata": {
    "tags": []
   },
   "outputs": [
    {
     "name": "stdout",
     "output_type": "stream",
     "text": [
      "1\n",
      "120\n",
      "Not valid input\n"
     ]
    }
   ],
   "source": [
    "print(factorial1(0))\n",
    "print(factorial1(5))\n",
    "print(factorial1(9.6))"
   ]
  },
  {
   "cell_type": "code",
   "execution_count": 50,
   "id": "6c089c40-31fe-4a3e-a463-b660e5ae4dd1",
   "metadata": {
    "tags": []
   },
   "outputs": [],
   "source": [
    "# 2\n",
    "def factorial2(n):\n",
    "    if type(n) == int:\n",
    "        result = 1\n",
    "        for i in range(n):\n",
    "            result = result * (n-i)\n",
    "        return result\n",
    "    else: \n",
    "        return 'Not valid input'"
   ]
  },
  {
   "cell_type": "code",
   "execution_count": 51,
   "id": "0ab190a5-d91b-4139-bfa4-be5fcc6ac788",
   "metadata": {
    "tags": []
   },
   "outputs": [
    {
     "name": "stdout",
     "output_type": "stream",
     "text": [
      "1\n",
      "120\n",
      "Not valid input\n"
     ]
    }
   ],
   "source": [
    "print(factorial2(0))\n",
    "print(factorial2(5))\n",
    "print(factorial2(9.6))"
   ]
  },
  {
   "cell_type": "code",
   "execution_count": 54,
   "id": "a91471ae-6734-4754-a8c3-077af665d9bd",
   "metadata": {
    "tags": []
   },
   "outputs": [
    {
     "name": "stdout",
     "output_type": "stream",
     "text": [
      "14.8 µs ± 109 ns per loop (mean ± std. dev. of 7 runs, 100,000 loops each)\n",
      "5.33 µs ± 122 ns per loop (mean ± std. dev. of 7 runs, 100,000 loops each)\n"
     ]
    }
   ],
   "source": [
    "# time\n",
    "%timeit factorial1(50)\n",
    "%timeit factorial2(50)"
   ]
  },
  {
   "cell_type": "code",
   "execution_count": null,
   "id": "0bde3e2b-e2d7-4913-83b3-c775862d9397",
   "metadata": {},
   "outputs": [],
   "source": []
  }
 ],
 "metadata": {
  "kernelspec": {
   "display_name": "Python 3 (ipykernel)",
   "language": "python",
   "name": "python3"
  },
  "language_info": {
   "codemirror_mode": {
    "name": "ipython",
    "version": 3
   },
   "file_extension": ".py",
   "mimetype": "text/x-python",
   "name": "python",
   "nbconvert_exporter": "python",
   "pygments_lexer": "ipython3",
   "version": "3.10.12"
  }
 },
 "nbformat": 4,
 "nbformat_minor": 5
}
