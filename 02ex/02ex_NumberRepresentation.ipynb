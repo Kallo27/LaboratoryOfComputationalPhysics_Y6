{
 "cells": [
  {
   "cell_type": "markdown",
   "metadata": {},
   "source": [
    "# Exercises 02\n",
    "### Number representation"
   ]
  },
  {
   "cell_type": "markdown",
   "metadata": {},
   "source": [
    "1\\. Write a function that converts number representation, bin<->dec<->hex. (Clearly using the corresponding python built-in functions is not fair..)"
   ]
  },
  {
   "cell_type": "code",
   "execution_count": 1,
   "metadata": {},
   "outputs": [],
   "source": [
    "def conversion(number, type_conv: [str, str]):\n",
    "    \n",
    "    if type_conv[0] == type_conv[1]:\n",
    "        return number\n",
    "    \n",
    "    elif type_conv[0] == 'bin':\n",
    "        number_conv = str(number)\n",
    "        sum = 0\n",
    "        \n",
    "        if type_conv[1] == 'dec':\n",
    "            for i in range(len(number_conv)):\n",
    "                sum += int(number_conv[i]) * (2 ** (len(number_conv) - i - 1))\n",
    "            return sum\n",
    "            \n",
    "        elif type_conv[1] == 'hex':\n",
    "            decimal_num = conversion(number, ['bin', 'dec'])\n",
    "            hexadecimal_digits = \"0123456789ABCDEF\"\n",
    "            result = []\n",
    "            \n",
    "            while decimal_num > 0:\n",
    "                remainder = decimal_num % 16\n",
    "                result.append(hexadecimal_digits[remainder])\n",
    "                decimal_num = decimal_num // 16\n",
    "                result.reverse()\n",
    "        return ''.join(result) if result else '0'\n",
    "    \n",
    "    elif type_conv[0] == 'dec':\n",
    "        if type_conv[1] == 'bin':\n",
    "            binary_result = ''\n",
    "            decimal = int(number)\n",
    "            \n",
    "            while decimal > 0:\n",
    "                remainder = decimal % 2\n",
    "                binary_result = str(remainder) + binary_result\n",
    "                decimal = decimal // 2\n",
    "            return binary_result if binary_result else '0'\n",
    "        \n",
    "        elif type_conv[1] == 'hex':\n",
    "            return conversion(conversion(number, ['dec', 'bin']), ['bin', 'hex'])\n",
    "        \n",
    "    elif type_conv[0] == 'hex':\n",
    "        hex_to_bin_dict = {\n",
    "        '0': '0000', '1': '0001', '2': '0010', '3': '0011',\n",
    "        '4': '0100', '5': '0101', '6': '0110', '7': '0111',\n",
    "        '8': '1000', '9': '1001', 'A': '1010', 'B': '1011',\n",
    "        'C': '1100', 'D': '1101', 'E': '1110', 'F': '1111'\n",
    "        }\n",
    "        \n",
    "        if type_conv[1] == 'bin':\n",
    "            binary_result = ''\n",
    "            for hex_digit in number:\n",
    "                binary_result += hex_to_bin_dict[hex_digit]\n",
    "            return binary_result\n",
    "        if type_conv[1] == 'dec':\n",
    "            return conversion(conversion(number, ['hex', 'bin']), ['bin', 'dec'])"
   ]
  },
  {
   "cell_type": "code",
   "execution_count": 2,
   "metadata": {},
   "outputs": [
    {
     "name": "stdout",
     "output_type": "stream",
     "text": [
      "60\n",
      "3C\n",
      "00111100\n"
     ]
    }
   ],
   "source": [
    "print(conversion('00111100', ['bin', 'dec']))\n",
    "print(conversion('60', ['dec', 'hex']))\n",
    "print(conversion('3C', ['hex', 'bin']))"
   ]
  },
  {
   "cell_type": "markdown",
   "metadata": {},
   "source": [
    "2\\. Write a function that converts a 32 bit word into a single precision floating point (i.e. interprets the various bits as sign, mantissa and exponent)"
   ]
  },
  {
   "cell_type": "code",
   "execution_count": 33,
   "metadata": {},
   "outputs": [],
   "source": [
    "def floating_creation(x: str = []):\n",
    "    # Extracting sign bit\n",
    "    sign = int(x[0])\n",
    "\n",
    "    # Extracting exponent bits and converting from binary to decimal\n",
    "    exp = int(conversion(x[1:9], ['bin', 'dec']))\n",
    "\n",
    "    # Extracting mantissa bits and converting from binary to decimal\n",
    "    mantissa_bin = x[9:]\n",
    "    mantissa_dec = 1 + sum(int(b) * 2**(-i-1) for i, b in enumerate(mantissa_bin))\n",
    "\n",
    "    # Calculating the result using the formula for floating-point representation\n",
    "    result = ((-1) ** sign) * mantissa_dec * 2 ** (exp - 127)\n",
    "\n",
    "    return result"
   ]
  },
  {
   "cell_type": "code",
   "execution_count": 34,
   "metadata": {},
   "outputs": [
    {
     "data": {
      "text/plain": [
       "6.375"
      ]
     },
     "execution_count": 34,
     "metadata": {},
     "output_type": "execute_result"
    }
   ],
   "source": [
    "floating_creation('01000000110011000000000000000000')"
   ]
  },
  {
   "cell_type": "markdown",
   "metadata": {},
   "source": [
    "3\\. Write a program to determine the underflow and overflow limits (within a factor of 2) for python on your computer. \n",
    "\n",
    "**Tips**: define two variables inizialized to 1 and halve/double them enough time to exceed the under/over-flow limits"
   ]
  },
  {
   "cell_type": "code",
   "execution_count": 37,
   "metadata": {},
   "outputs": [],
   "source": [
    "def find_underflow_limit():\n",
    "    underflow_limit = 1.0\n",
    "    while not underflow_limit / 2 == 0.0:\n",
    "        underflow_limit /= 2\n",
    "    return underflow_limit\n",
    "\n",
    "def find_overflow_limit():\n",
    "    overflow_limit = 1.0\n",
    "    while not overflow_limit * 2 == float('inf'):\n",
    "        overflow_limit *= 2\n",
    "    return overflow_limit"
   ]
  },
  {
   "cell_type": "code",
   "execution_count": 39,
   "metadata": {},
   "outputs": [
    {
     "name": "stdout",
     "output_type": "stream",
     "text": [
      "8.98846567431158e+307\n",
      "5e-324\n"
     ]
    }
   ],
   "source": [
    "print(find_overflow_limit())\n",
    "print(find_underflow_limit())"
   ]
  },
  {
   "cell_type": "markdown",
   "metadata": {},
   "source": [
    "4\\. Write a program to determine the machine precision\n",
    "\n",
    "**Tips**: define a new variable by adding a smaller and smaller value (proceeding similarly to prob. 2) to an original variable and check the point where the two are the same "
   ]
  },
  {
   "cell_type": "code",
   "execution_count": 40,
   "metadata": {},
   "outputs": [],
   "source": [
    "def find_machine_precision():\n",
    "    x = 10.0\n",
    "    z = 1/2\n",
    "    \n",
    "    while not x == x + z:\n",
    "        z /= 2\n",
    "    return z"
   ]
  },
  {
   "cell_type": "code",
   "execution_count": 41,
   "metadata": {},
   "outputs": [
    {
     "name": "stdout",
     "output_type": "stream",
     "text": [
      "8.881784197001252e-16\n"
     ]
    }
   ],
   "source": [
    "print(find_machine_precision())"
   ]
  },
  {
   "cell_type": "markdown",
   "metadata": {},
   "source": [
    "5\\. Write a function that takes in input three parameters $a$, $b$ and $c$ and prints out the two solutions to the quadratic equation $ax^2+bx+c=0$ using the standard formula:\n",
    "$$\n",
    "x=\\frac{-b\\pm\\sqrt{b^2-4ac}}{2a}\n",
    "$$\n",
    "\n",
    "(a) use the program to compute the solution for $a=0.001$, $b=1000$ and $c=0.001$\n",
    "\n",
    "(b) re-express the standard solution formula by multiplying top and bottom by $-b\\mp\\sqrt{b^2-4ac}$ and again find the solution for $a=0.001$, $b=1000$ and $c=0.001$. How does it compare with what previously obtained? Why?\n",
    "\n",
    "(c) write a function that compute the roots of a quadratic equation accurately in all cases"
   ]
  },
  {
   "cell_type": "code",
   "execution_count": 3,
   "metadata": {},
   "outputs": [
    {
     "data": {
      "text/plain": [
       "[-9.999894245993346e-07, -999999.999999]"
      ]
     },
     "execution_count": 3,
     "metadata": {},
     "output_type": "execute_result"
    }
   ],
   "source": [
    "def quadratic_formula(a, b, c):\n",
    "    result = [0, 0]\n",
    "    result[0] = (-b + (b ** 2 - 4 * a * c) ** (1/2))/(2 * a)\n",
    "    result[1] = (-b - (b ** 2 - 4 * a * c) ** (1/2))/(2 * a)\n",
    "    \n",
    "    return result\n",
    "\n",
    "quadratic_formula(a = 0.001, b = 1000, c = 0.001)"
   ]
  },
  {
   "cell_type": "code",
   "execution_count": 9,
   "metadata": {},
   "outputs": [
    {
     "data": {
      "text/plain": [
       "[-1.0000000000009999e-06, -1000010.5755125057]"
      ]
     },
     "execution_count": 9,
     "metadata": {},
     "output_type": "execute_result"
    }
   ],
   "source": [
    "def quadratic_formula(a, b, c):\n",
    "    result = [0, 0]\n",
    "    result[0] = (4 * a * c)/((2 * a) * (-b - (b ** 2 - 4 * a * c) ** (1/2)))\n",
    "    result[1] = (4 * a * c)/((2 * a) * (-b + (b ** 2 - 4 * a * c) ** (1/2)))\n",
    "    \n",
    "    return result\n",
    "\n",
    "quadratic_formula(a = 0.001, b = 1000, c = 0.001)"
   ]
  },
  {
   "cell_type": "markdown",
   "metadata": {},
   "source": [
    "We see a difference due to numerical instability: this is the consequence of the fact that the coefficient $a$ is really close to 0. Thus, the enhanced version of our quadratica formula must be able to compute also the cases in which $a$ is close to 0 without changing the result."
   ]
  },
  {
   "cell_type": "code",
   "execution_count": 16,
   "metadata": {},
   "outputs": [
    {
     "name": "stdout",
     "output_type": "stream",
     "text": [
      "(-9.999894245993346e-07, -999999.999999)\n"
     ]
    }
   ],
   "source": [
    "def quadratic_solver_enhanced(a, b, c):\n",
    "    # Handle the case when a is close to zero\n",
    "    if abs(a) < 1e-10:\n",
    "        # Handle the case when b is close to zero\n",
    "        if abs(b) < 1e-10:\n",
    "            return \"Infinite solutions\"\n",
    "        else:\n",
    "            x = -c / b\n",
    "            return x\n",
    "    else:\n",
    "        delta = b**2 - 4*a*c\n",
    "        if delta < 0:\n",
    "            return \"No real roots\"\n",
    "        else:\n",
    "            x1 = (-b + delta ** (1/2)) / (2*a)\n",
    "            x2 = (-b - delta ** (1/2)) / (2*a)\n",
    "            return x1, x2\n",
    "\n",
    "print(quadratic_solver_enhanced(a = 0.001, b = 1000, c = 0.001))"
   ]
  },
  {
   "cell_type": "markdown",
   "metadata": {},
   "source": [
    "6\\. Write a program that implements the function $f(x)=x(x−1)$\n",
    "\n",
    "(a) Calculate the derivative of the function at the point $x = 1$ using the derivative definition:\n",
    "\n",
    "$$\n",
    "\\frac{{\\rm d}f}{{\\rm d}x} = \\lim_{\\delta\\to0} \\frac{f(x+\\delta)-f(x)}{\\delta}\n",
    "$$\n",
    "\n",
    "with $\\delta = 10^{−2}$. Calculate the true value of the same derivative analytically and compare with the answer your program gives. The two will not agree perfectly. Why not?\n",
    "\n",
    "(b) Repeat the calculation for $\\delta = 10^{−4}, 10^{−6}, 10^{−8}, 10^{−10}, 10^{−12}$ and $10^{−14}$. How does the accuracy scales with $\\delta$?"
   ]
  },
  {
   "cell_type": "code",
   "execution_count": 21,
   "metadata": {},
   "outputs": [
    {
     "data": {
      "text/plain": [
       "1.010000000000001"
      ]
     },
     "execution_count": 21,
     "metadata": {},
     "output_type": "execute_result"
    }
   ],
   "source": [
    "def func(x):\n",
    "    return x * (x - 1)\n",
    "\n",
    "def derivative(function, x, d):\n",
    "    der = (function(x + d) - function(x)) / d\n",
    "    return der\n",
    "\n",
    "derivative(func, x = 1, d = 1e-2)"
   ]
  },
  {
   "cell_type": "markdown",
   "metadata": {},
   "source": [
    "We can see that the result is not perfect (it should be exactly $1$); this is due to the fact that the limit $d$ -> 0 is not respected, $d$ is not small enough in order to obtain the correct derivative."
   ]
  },
  {
   "cell_type": "code",
   "execution_count": 23,
   "metadata": {},
   "outputs": [
    {
     "name": "stdout",
     "output_type": "stream",
     "text": [
      "1.0000999999998899\n",
      "1.0000009999177333\n",
      "1.0000000039225287\n",
      "1.000000082840371\n",
      "1.0000889005833413\n",
      "0.9992007221626509\n"
     ]
    }
   ],
   "source": [
    "print(derivative(func, x = 1, d = 1e-4))\n",
    "print(derivative(func, x = 1, d = 1e-6))\n",
    "print(derivative(func, x = 1, d = 1e-8))\n",
    "print(derivative(func, x = 1, d = 1e-10))\n",
    "print(derivative(func, x = 1, d = 1e-12))\n",
    "print(derivative(func, x = 1, d = 1e-14))"
   ]
  },
  {
   "cell_type": "markdown",
   "metadata": {},
   "source": [
    "We see that the most accurate solution is with $d = 10^{-8}$; with smaller value for $d$ the error grows. This is probably due to the fact that my computer loses precision for smaller floating numbers."
   ]
  },
  {
   "cell_type": "markdown",
   "metadata": {},
   "source": [
    "7\\. Consider the integral of the semicircle of radius 1:\n",
    "$$\n",
    "I=\\int_{-1}^{1} \\sqrt(1-x^2) {\\rm d}x\n",
    "$$\n",
    "which it's known to be $I=\\frac{\\pi}{2}=1.57079632679...$.\n",
    "Alternatively we can use the Riemann definition of the integral:\n",
    "$$\n",
    "I=\\lim_{N\\to\\infty} \\sum_{k=1}^{N} h y_k \n",
    "$$\n",
    "\n",
    "with $h=2/N$ the width of each of the $N$ slices the domain is divided into and where\n",
    "$y_k$ is the value of the function at the $k-$th slice.\n",
    "\n",
    "(a) Write a programe to compute the integral with $N=100$. How does the result compares to the true value?\n",
    "\n",
    "(b) How much can $N$ be increased if the computation needs to be run in less than a second? What is the gain in running it for 1 minute? \n"
   ]
  },
  {
   "cell_type": "code",
   "execution_count": 78,
   "metadata": {},
   "outputs": [
    {
     "name": "stdout",
     "output_type": "stream",
     "text": [
      "1.5691342555492505\n"
     ]
    }
   ],
   "source": [
    "def semicircle(x):\n",
    "    return ((1 - x ** 2) ** (1/2))\n",
    "\n",
    "def integral(function, N = int(10), limits = []):\n",
    "    slice_width = (limits[1] - limits[0])/N\n",
    "    sum = 0\n",
    "    for i in range(int(N)):\n",
    "        sum += slice_width * function(limits[0] + i * slice_width)\n",
    "        \n",
    "    return sum\n",
    "\n",
    "print(integral(semicircle, N= 100, limits= [-1, 1]))"
   ]
  },
  {
   "cell_type": "markdown",
   "metadata": {},
   "source": [
    "The result is a little bit off, but increasing the size of $N$ it will increase the accuracy."
   ]
  },
  {
   "cell_type": "code",
   "execution_count": 66,
   "metadata": {},
   "outputs": [
    {
     "name": "stdout",
     "output_type": "stream",
     "text": [
      "4238890\n",
      "1.570796326604501\n"
     ]
    }
   ],
   "source": [
    "import time\n",
    "\n",
    "def time_spent(N):\n",
    "    start_time = time.time()\n",
    "    integral(semicircle, N, limits= [-1, 1])\n",
    "    end_time = time.time()\n",
    "    return end_time - start_time\n",
    "\n",
    "N = 1000000\n",
    "while time_spent(N) < 1:\n",
    "    N += 100000\n",
    "\n",
    "N -= 100000\n",
    "\n",
    "while time_spent(N) < 1:\n",
    "    N += 10000\n",
    "\n",
    "N -= 10000\n",
    "    \n",
    "while time_spent(N) < 1:\n",
    "    N += 1000\n",
    "\n",
    "N -= 1000\n",
    "  \n",
    "while time_spent(N) < 1:\n",
    "    N += 100\n",
    "\n",
    "N -= 100\n",
    "\n",
    "while time_spent(N) < 1:\n",
    "    N += 10\n",
    "\n",
    "N -= 10\n",
    "\n",
    "while time_spent(N) < 1:\n",
    "    N += 1\n",
    "\n",
    "print(N)\n",
    "print(integral(semicircle, N, limits= [-1, 1]))\n"
   ]
  },
  {
   "cell_type": "code",
   "execution_count": 86,
   "metadata": {},
   "outputs": [
    {
     "name": "stdout",
     "output_type": "stream",
     "text": [
      "CPU times: user 47.2 s, sys: 0 ns, total: 47.2 s\n",
      "Wall time: 47.2 s\n"
     ]
    },
    {
     "data": {
      "text/plain": [
       "1.5707963267944416"
      ]
     },
     "execution_count": 86,
     "metadata": {},
     "output_type": "execute_result"
    }
   ],
   "source": [
    "%time integral(semicircle, N= 200000000, limits= [-1, 1])"
   ]
  }
 ],
 "metadata": {
  "kernelspec": {
   "display_name": "Python 3 (ipykernel)",
   "language": "python",
   "name": "python3"
  },
  "language_info": {
   "codemirror_mode": {
    "name": "ipython",
    "version": 3
   },
   "file_extension": ".py",
   "mimetype": "text/x-python",
   "name": "python",
   "nbconvert_exporter": "python",
   "pygments_lexer": "ipython3",
   "version": "3.11.5"
  }
 },
 "nbformat": 4,
 "nbformat_minor": 2
}
