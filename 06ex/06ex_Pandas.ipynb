{
 "cells": [
  {
   "cell_type": "markdown",
   "metadata": {},
   "source": [
    "# 06\\. Pandas (60 min)\n",
    "\n",
    "This exercise consists in analyzing a dataset containg timing information from a series of Time-to-Digital-Converters (TDC) implemented in a couple of FPGAs. Each measurement (i.e. each row of the input file) consists of a flag that specifies the type of message ('HEAD', which in this case is always 1), two addresses of the TDC providing the signal ('FPGA' and 'TDC_CHANNEL'), and the timing information ('ORBIT_CNT', 'BX_COUNTER', and 'TDC_MEAS'). Each TDC count corresponds to 25/30 ns, whereas a unit of BX_COUNTER corresponds to 25 ns, and the ORBIT_CNT is increased every 'x' BX_COUNTER. This allows to store the time in a similar way to hours, minutes and seconds."
   ]
  },
  {
   "cell_type": "code",
   "execution_count": 1,
   "metadata": {},
   "outputs": [],
   "source": [
    "import pandas as pd\n",
    "import numpy as np\n",
    "import matplotlib.pyplot as plt"
   ]
  },
  {
   "cell_type": "code",
   "execution_count": null,
   "metadata": {},
   "outputs": [],
   "source": [
    "# If you didn't download it yet, please get the relevant file now!\n",
    "!wget https://www.dropbox.com/s/xvjzaxzz3ysphme/data_000637.txt -P ~/data/"
   ]
  },
  {
   "cell_type": "markdown",
   "metadata": {},
   "source": [
    "1\\. Create a Pandas DataFrame reading N rows of the 'data_000637.txt' dataset. Choose N to be smaller than or equal to the maximum number of rows and larger that 10k."
   ]
  },
  {
   "cell_type": "code",
   "execution_count": 47,
   "metadata": {},
   "outputs": [
    {
     "data": {
      "text/html": [
       "<div>\n",
       "<style scoped>\n",
       "    .dataframe tbody tr th:only-of-type {\n",
       "        vertical-align: middle;\n",
       "    }\n",
       "\n",
       "    .dataframe tbody tr th {\n",
       "        vertical-align: top;\n",
       "    }\n",
       "\n",
       "    .dataframe thead th {\n",
       "        text-align: right;\n",
       "    }\n",
       "</style>\n",
       "<table border=\"1\" class=\"dataframe\">\n",
       "  <thead>\n",
       "    <tr style=\"text-align: right;\">\n",
       "      <th></th>\n",
       "      <th>HEAD</th>\n",
       "      <th>FPGA</th>\n",
       "      <th>TDC_CHANNEL</th>\n",
       "      <th>ORBIT_CNT</th>\n",
       "      <th>BX_COUNTER</th>\n",
       "      <th>TDC_MEAS</th>\n",
       "    </tr>\n",
       "  </thead>\n",
       "  <tbody>\n",
       "    <tr>\n",
       "      <th>0</th>\n",
       "      <td>1</td>\n",
       "      <td>0</td>\n",
       "      <td>123</td>\n",
       "      <td>3869200167</td>\n",
       "      <td>2374</td>\n",
       "      <td>26</td>\n",
       "    </tr>\n",
       "    <tr>\n",
       "      <th>1</th>\n",
       "      <td>1</td>\n",
       "      <td>0</td>\n",
       "      <td>124</td>\n",
       "      <td>3869200167</td>\n",
       "      <td>2374</td>\n",
       "      <td>27</td>\n",
       "    </tr>\n",
       "    <tr>\n",
       "      <th>2</th>\n",
       "      <td>1</td>\n",
       "      <td>0</td>\n",
       "      <td>63</td>\n",
       "      <td>3869200167</td>\n",
       "      <td>2553</td>\n",
       "      <td>28</td>\n",
       "    </tr>\n",
       "    <tr>\n",
       "      <th>3</th>\n",
       "      <td>1</td>\n",
       "      <td>0</td>\n",
       "      <td>64</td>\n",
       "      <td>3869200167</td>\n",
       "      <td>2558</td>\n",
       "      <td>19</td>\n",
       "    </tr>\n",
       "    <tr>\n",
       "      <th>4</th>\n",
       "      <td>1</td>\n",
       "      <td>0</td>\n",
       "      <td>64</td>\n",
       "      <td>3869200167</td>\n",
       "      <td>2760</td>\n",
       "      <td>25</td>\n",
       "    </tr>\n",
       "    <tr>\n",
       "      <th>...</th>\n",
       "      <td>...</td>\n",
       "      <td>...</td>\n",
       "      <td>...</td>\n",
       "      <td>...</td>\n",
       "      <td>...</td>\n",
       "      <td>...</td>\n",
       "    </tr>\n",
       "    <tr>\n",
       "      <th>569314</th>\n",
       "      <td>1</td>\n",
       "      <td>0</td>\n",
       "      <td>48</td>\n",
       "      <td>3869205928</td>\n",
       "      <td>2995</td>\n",
       "      <td>12</td>\n",
       "    </tr>\n",
       "    <tr>\n",
       "      <th>569315</th>\n",
       "      <td>1</td>\n",
       "      <td>0</td>\n",
       "      <td>63</td>\n",
       "      <td>3869205928</td>\n",
       "      <td>3054</td>\n",
       "      <td>2</td>\n",
       "    </tr>\n",
       "    <tr>\n",
       "      <th>569316</th>\n",
       "      <td>1</td>\n",
       "      <td>0</td>\n",
       "      <td>64</td>\n",
       "      <td>3869205928</td>\n",
       "      <td>3062</td>\n",
       "      <td>1</td>\n",
       "    </tr>\n",
       "    <tr>\n",
       "      <th>569317</th>\n",
       "      <td>1</td>\n",
       "      <td>1</td>\n",
       "      <td>3</td>\n",
       "      <td>3869205928</td>\n",
       "      <td>3103</td>\n",
       "      <td>16</td>\n",
       "    </tr>\n",
       "    <tr>\n",
       "      <th>569318</th>\n",
       "      <td>1</td>\n",
       "      <td>1</td>\n",
       "      <td>4</td>\n",
       "      <td>3869205928</td>\n",
       "      <td>3104</td>\n",
       "      <td>24</td>\n",
       "    </tr>\n",
       "  </tbody>\n",
       "</table>\n",
       "<p>569319 rows × 6 columns</p>\n",
       "</div>"
      ],
      "text/plain": [
       "        HEAD  FPGA  TDC_CHANNEL   ORBIT_CNT  BX_COUNTER  TDC_MEAS\n",
       "0          1     0          123  3869200167        2374        26\n",
       "1          1     0          124  3869200167        2374        27\n",
       "2          1     0           63  3869200167        2553        28\n",
       "3          1     0           64  3869200167        2558        19\n",
       "4          1     0           64  3869200167        2760        25\n",
       "...      ...   ...          ...         ...         ...       ...\n",
       "569314     1     0           48  3869205928        2995        12\n",
       "569315     1     0           63  3869205928        3054         2\n",
       "569316     1     0           64  3869205928        3062         1\n",
       "569317     1     1            3  3869205928        3103        16\n",
       "569318     1     1            4  3869205928        3104        24\n",
       "\n",
       "[569319 rows x 6 columns]"
      ]
     },
     "execution_count": 47,
     "metadata": {},
     "output_type": "execute_result"
    }
   ],
   "source": [
    "d = pd.read_csv(\"~/data/data_000637.txt\")\n",
    "N = np.random.randint(10000, d.shape[0])\n",
    "\n",
    "d.head(N)"
   ]
  },
  {
   "cell_type": "markdown",
   "metadata": {},
   "source": [
    "2\\. Find out the number of BX in a ORBIT (the value 'x')."
   ]
  },
  {
   "cell_type": "code",
   "execution_count": 2,
   "metadata": {},
   "outputs": [
    {
     "name": "stdout",
     "output_type": "stream",
     "text": [
      "x = 3563\n"
     ]
    }
   ],
   "source": [
    "bx_counter = d.groupby(\"ORBIT_CNT\")[\"BX_COUNTER\"].max()\n",
    "\n",
    "print('x =', bx_counter.max())"
   ]
  },
  {
   "cell_type": "markdown",
   "metadata": {},
   "source": [
    "3\\. Find out how much the data taking lasted. You can either make an estimate based on the fraction of the measurements (rows) you read, or perform this check precisely by reading out the whole dataset."
   ]
  },
  {
   "cell_type": "code",
   "execution_count": 16,
   "metadata": {},
   "outputs": [
    {
     "name": "stdout",
     "output_type": "stream",
     "text": [
      "Estimated total time (ns): 979914075 ns\n",
      "Total time: 980140993.3333334 ns\n"
     ]
    }
   ],
   "source": [
    "total_time = bx_counter.max() * 25 * bx_counter.shape[0]\n",
    "print('Estimated total time (ns):', int(total_time), 'ns')\n",
    "print('Total time:', (d.iloc[-1, 3] - d.iloc[0, 3]) * 25 * bx_counter.max() + (d.iloc[-1, 4] - d.iloc[0, 4]) * 25 + (d.iloc[-1, 5] - d.iloc[0, 5]) * 25/30, 'ns')"
   ]
  },
  {
   "cell_type": "markdown",
   "metadata": {},
   "source": [
    "4\\. Create a new column with the absolute time in ns (as a combination of the other three columns with timing information)."
   ]
  },
  {
   "cell_type": "code",
   "execution_count": 13,
   "metadata": {},
   "outputs": [
    {
     "name": "stdout",
     "output_type": "stream",
     "text": [
      "         HEAD  FPGA  TDC_CHANNEL   ORBIT_CNT  BX_COUNTER  TDC_MEAS  \\\n",
      "0           1     0          123  3869200167        2374        26   \n",
      "1           1     0          124  3869200167        2374        27   \n",
      "2           1     0           63  3869200167        2553        28   \n",
      "3           1     0           64  3869200167        2558        19   \n",
      "4           1     0           64  3869200167        2760        25   \n",
      "...       ...   ...          ...         ...         ...       ...   \n",
      "1310715     1     0           62  3869211171         762        14   \n",
      "1310716     1     1            4  3869211171         763        11   \n",
      "1310717     1     0           64  3869211171         764         0   \n",
      "1310718     1     0          139  3869211171         769         0   \n",
      "1310719     1     0           61  3869211171         762        18   \n",
      "\n",
      "           TOTAL_TIME  \n",
      "0        0.000000e+00  \n",
      "1        8.333333e-01  \n",
      "2        4.476667e+03  \n",
      "3        4.594167e+03  \n",
      "4        9.649167e+03  \n",
      "...               ...  \n",
      "1310715  9.801410e+08  \n",
      "1310716  9.801410e+08  \n",
      "1310717  9.801410e+08  \n",
      "1310718  9.801412e+08  \n",
      "1310719  9.801410e+08  \n",
      "\n",
      "[1310720 rows x 7 columns]\n"
     ]
    }
   ],
   "source": [
    "d['TOTAL_TIME'] =  ((d['ORBIT_CNT'] - d.iloc[0, 3]) * 25 * bx_counter.max() + (d['BX_COUNTER'] - d.iloc[0, 4]) * 25 + (d['TDC_MEAS'] - d.iloc[0, 5]) * 25/30)\n",
    "\n",
    "print(d)"
   ]
  },
  {
   "cell_type": "markdown",
   "metadata": {},
   "source": [
    "5\\. Replace the values (all 1) of the HEAD column randomly with 0 or 1."
   ]
  },
  {
   "cell_type": "code",
   "execution_count": 42,
   "metadata": {},
   "outputs": [
    {
     "name": "stdout",
     "output_type": "stream",
     "text": [
      "         HEAD  FPGA  TDC_CHANNEL   ORBIT_CNT  BX_COUNTER  TDC_MEAS  \\\n",
      "0           0     0          123  3869200167        2374        26   \n",
      "1           1     0          124  3869200167        2374        27   \n",
      "2           1     0           63  3869200167        2553        28   \n",
      "3           1     0           64  3869200167        2558        19   \n",
      "4           0     0           64  3869200167        2760        25   \n",
      "...       ...   ...          ...         ...         ...       ...   \n",
      "1310715     0     0           62  3869211171         762        14   \n",
      "1310716     1     1            4  3869211171         763        11   \n",
      "1310717     1     0           64  3869211171         764         0   \n",
      "1310718     0     0          139  3869211171         769         0   \n",
      "1310719     0     0           61  3869211171         762        18   \n",
      "\n",
      "           TOTAL_TIME  \n",
      "0        0.000000e+00  \n",
      "1        8.333333e-01  \n",
      "2        4.476667e+03  \n",
      "3        4.594167e+03  \n",
      "4        9.649167e+03  \n",
      "...               ...  \n",
      "1310715  9.801410e+08  \n",
      "1310716  9.801410e+08  \n",
      "1310717  9.801410e+08  \n",
      "1310718  9.801412e+08  \n",
      "1310719  9.801410e+08  \n",
      "\n",
      "[1310720 rows x 7 columns]\n"
     ]
    }
   ],
   "source": [
    "d['HEAD'] = np.random.randint(0, 2, size=d.shape[0])\n",
    "print(d)"
   ]
  },
  {
   "cell_type": "markdown",
   "metadata": {},
   "source": [
    "6\\. Create a new DataFrame that contains only the rows with HEAD=1."
   ]
  },
  {
   "cell_type": "code",
   "execution_count": 46,
   "metadata": {},
   "outputs": [
    {
     "name": "stdout",
     "output_type": "stream",
     "text": [
      "         HEAD  FPGA  TDC_CHANNEL   ORBIT_CNT  BX_COUNTER  TDC_MEAS  \\\n",
      "1           1     0          124  3869200167        2374        27   \n",
      "2           1     0           63  3869200167        2553        28   \n",
      "3           1     0           64  3869200167        2558        19   \n",
      "5           1     0           63  3869200167        2762         4   \n",
      "7           1     0          139  3869200167        2776         0   \n",
      "...       ...   ...          ...         ...         ...       ...   \n",
      "1310712     1     1           35  3869211171         429         4   \n",
      "1310713     1     0           64  3869211171         758        18   \n",
      "1310714     1     0           60  3869211171         762         2   \n",
      "1310716     1     1            4  3869211171         763        11   \n",
      "1310717     1     0           64  3869211171         764         0   \n",
      "\n",
      "           TOTAL_TIME  \n",
      "1        8.333333e-01  \n",
      "2        4.476667e+03  \n",
      "3        4.594167e+03  \n",
      "5        9.681667e+03  \n",
      "7        1.002833e+04  \n",
      "...               ...  \n",
      "1310712  9.801327e+08  \n",
      "1310713  9.801409e+08  \n",
      "1310714  9.801410e+08  \n",
      "1310716  9.801410e+08  \n",
      "1310717  9.801410e+08  \n",
      "\n",
      "[655879 rows x 7 columns]\n"
     ]
    }
   ],
   "source": [
    "mask = d['HEAD'] == 1\n",
    "d2 = d[mask]\n",
    "\n",
    "print(d2)"
   ]
  },
  {
   "cell_type": "markdown",
   "metadata": {},
   "source": [
    "7\\. Make two occupancy plots (one for each FPGA), i.e. plot the number of counts per TDC channel"
   ]
  },
  {
   "cell_type": "code",
   "execution_count": 52,
   "metadata": {},
   "outputs": [
    {
     "data": {
      "text/plain": [
       "(array([    0., 28438., 32669., 21970., 26403., 15003., 18869., 13646.,\n",
       "        17813.,    80., 12951.,  9137., 12728.,  6188.,  8437.,  5570.,\n",
       "         8367.,  3589.,  5215.,  3412.,  5750.,  2362.,  3638.,  2495.,\n",
       "         4440.,  1756.,  2764.,  1836.,  3466.,  1339.,  2145.,  1510.,\n",
       "         2910.,  1168.,  1898.,  1357.,  2528.,   956.,  1509.,  1038.,\n",
       "         2081.,   828.,  1360.,   891.,  1792.,   680.,  1194.,   910.,\n",
       "         1690.,   738.,  1134.,   832.,  1485.,   781.,  1078.,   840.,\n",
       "         1427.,   731.,  1018.,   865.,  1473.,   780.,  1074.,   918.,\n",
       "         1439.,   713.,   590.,   467.,   520.,   414.,   345.,   297.,\n",
       "          312.,   318.,   249.,   202.,   205.,   217.,   165.,   155.,\n",
       "          170.,   224.,   131.,   145.,   140.,   204.,   130.,   153.,\n",
       "          146.,   206.,   145.,   164.,   159.,   283.,   196.,   249.,\n",
       "          247.,   357.,   334.,   435.,   518.,   556.,   582.,   657.,\n",
       "          678.,   752.,   730.,   724.,   855.,   752.,   813.,   733.,\n",
       "          810.,   734.,   732.,   688.,   731.,   668.,   664.,   625.,\n",
       "          673.,   641.,   627.,   549.,     0.,   628.,   606.,  1325.,\n",
       "         1454.,    35.,    38.,     0.,     0.,     0.,     0.,     0.,\n",
       "            0.,    36., 32478.]),\n",
       " array([  0.,   1.,   2.,   3.,   4.,   5.,   6.,   7.,   8.,   9.,  10.,\n",
       "         11.,  12.,  13.,  14.,  15.,  16.,  17.,  18.,  19.,  20.,  21.,\n",
       "         22.,  23.,  24.,  25.,  26.,  27.,  28.,  29.,  30.,  31.,  32.,\n",
       "         33.,  34.,  35.,  36.,  37.,  38.,  39.,  40.,  41.,  42.,  43.,\n",
       "         44.,  45.,  46.,  47.,  48.,  49.,  50.,  51.,  52.,  53.,  54.,\n",
       "         55.,  56.,  57.,  58.,  59.,  60.,  61.,  62.,  63.,  64.,  65.,\n",
       "         66.,  67.,  68.,  69.,  70.,  71.,  72.,  73.,  74.,  75.,  76.,\n",
       "         77.,  78.,  79.,  80.,  81.,  82.,  83.,  84.,  85.,  86.,  87.,\n",
       "         88.,  89.,  90.,  91.,  92.,  93.,  94.,  95.,  96.,  97.,  98.,\n",
       "         99., 100., 101., 102., 103., 104., 105., 106., 107., 108., 109.,\n",
       "        110., 111., 112., 113., 114., 115., 116., 117., 118., 119., 120.,\n",
       "        121., 122., 123., 124., 125., 126., 127., 128., 129., 130., 131.,\n",
       "        132., 133., 134., 135., 136., 137., 138., 139.]),\n",
       " <BarContainer object of 139 artists>)"
      ]
     },
     "execution_count": 52,
     "metadata": {},
     "output_type": "execute_result"
    },
    {
     "data": {
      "image/png": "[encoded data removed]",
      "text/plain": [
       "<Figure size 640x480 with 2 Axes>"
      ]
     },
     "metadata": {},
     "output_type": "display_data"
    }
   ],
   "source": [
    "fpga0 = d[d['FPGA'] == 0]\n",
    "fpga1 = d[d['FPGA'] == 1]\n",
    "\n",
    "plt.subplot(2, 1, 1)\n",
    "plt.hist(fpga0['TDC_CHANNEL'], bins=range(0, 140))\n",
    "\n",
    "plt.subplot(2, 1, 2)\n",
    "plt.hist(fpga1['TDC_CHANNEL'], bins=range(0, 140))"
   ]
  },
  {
   "cell_type": "markdown",
   "metadata": {},
   "source": [
    "8\\. Use the groupby method to find out the noisy channels, i.e. the TDC channels with most counts (say the top 3)"
   ]
  },
  {
   "cell_type": "code",
   "execution_count": 68,
   "metadata": {},
   "outputs": [
    {
     "name": "stdout",
     "output_type": "stream",
     "text": [
      "               HEAD    FPGA  ORBIT_CNT  BX_COUNTER  TDC_MEAS\n",
      "TDC_CHANNEL                                                 \n",
      "139          108059  108059     108059      108059    108059\n",
      "64            66020   66020      66020       66020     66020\n",
      "63            64642   64642      64642       64642     64642\n"
     ]
    }
   ],
   "source": [
    "noise = d.groupby('TDC_CHANNEL').count()\n",
    "noise = noise.sort_values(by='HEAD', ascending=False)\n",
    "\n",
    "print(noise.head(3))"
   ]
  },
  {
   "cell_type": "markdown",
   "metadata": {},
   "source": [
    "9\\. Count the number of unique orbits. Count the number of unique orbits with at least one measurement from TDC_CHANNEL=139"
   ]
  },
  {
   "cell_type": "code",
   "execution_count": 71,
   "metadata": {},
   "outputs": [
    {
     "name": "stdout",
     "output_type": "stream",
     "text": [
      "[3869200167 3869200168 3869200169 ... 3869211169 3869211170 3869211171]\n",
      "Number of unique orbits: 11001\n"
     ]
    }
   ],
   "source": [
    "unique_orbits = d['ORBIT_CNT'].unique()\n",
    "\n",
    "print(unique_orbits)\n",
    "print('Number of unique orbits:', unique_orbits.shape[0])"
   ]
  },
  {
   "cell_type": "code",
   "execution_count": 79,
   "metadata": {},
   "outputs": [
    {
     "name": "stdout",
     "output_type": "stream",
     "text": [
      "[3869200167 3869200168 3869200169 ... 3869211169 3869211170 3869211171]\n",
      "Number of unique orbits: 10976\n"
     ]
    }
   ],
   "source": [
    "orbits139 = d[d['TDC_CHANNEL'] == 139]\n",
    "unique_orbits139 = orbits139['ORBIT_CNT'].unique()\n",
    "\n",
    "print(unique_orbits139)\n",
    "print('Number of unique orbits:', unique_orbits139.shape[0])"
   ]
  }
 ],
 "metadata": {
  "kernelspec": {
   "display_name": "Python 3 (ipykernel)",
   "language": "python",
   "name": "python3"
  },
  "language_info": {
   "codemirror_mode": {
    "name": "ipython",
    "version": 3
   },
   "file_extension": ".py",
   "mimetype": "text/x-python",
   "name": "python",
   "nbconvert_exporter": "python",
   "pygments_lexer": "ipython3",
   "version": "3.11.5"
  }
 },
 "nbformat": 4,
 "nbformat_minor": 2
}
